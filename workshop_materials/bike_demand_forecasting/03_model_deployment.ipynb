{
 "cells": [
  {
   "cell_type": "markdown",
   "id": "0c71bd30",
   "metadata": {},
   "source": [
    "# 🚀 Module 3: Model Packaging and Deployment on Kubernetes\n",
    "\n",
    "In this module, we will:\n",
    "1. Load the Trained Model from MLflow\n",
    "2. Build a REST API for model inference\n",
    "3. Create a Dockerfile to containerize the service\n",
    "4. Deploy the container to a Kubernetes cluster (Minikube or OpenShift)\n",
    "5. Optionally, expose and test the deployed service"
   ]
  },
  {
   "cell_type": "markdown",
   "id": "f11b9cbc-f1f1-4f7e-9801-365914ecb676",
   "metadata": {},
   "source": [
    "## 📦 Import Required Libraries\n",
    "\n",
    "Before we proceed with training and tracking our machine learning model, we need to import the necessary libraries.\n"
   ]
  },
  {
   "cell_type": "code",
   "execution_count": 1,
   "id": "80ced53d-3adc-4ad5-92f4-20a0d0336728",
   "metadata": {
    "tags": []
   },
   "outputs": [],
   "source": [
    "# Import necessary modules\n",
    "import os\n",
    "import joblib\n",
    "\n",
    "from sklearn.model_selection import train_test_split\n",
    "from sklearn.ensemble import RandomForestRegressor\n",
    "from sklearn.metrics import mean_squared_error, r2_score\n",
    "\n",
    "import pandas as pd\n",
    "import numpy as np\n",
    "\n",
    "import mlflow\n",
    "import mlflow.sklearn\n",
    "from mlflow.tracking import MlflowClient"
   ]
  },
  {
   "cell_type": "markdown",
   "id": "1ee6dfae",
   "metadata": {},
   "source": [
    "## 🧳 Select and Load a trained Model Version from MLflow\n",
    "\n",
    "In this step, we interact with the MLflow Model Registry to:\n",
    "\n",
    "1. **List all available versions** of a registered model (`BikeSharingModel`) along with their metadata, such as version number, stage, and run ID.\n",
    "2. **Prompt the user** to choose a specific version to use for deployment or analysis.\n",
    "3. **Download the selected model** from the MLflow tracking server using the model URI.\n",
    "\n",
    "This makes it easy to manage multiple iterations of a model and ensures reproducibility when deploying or testing specific versions.\n"
   ]
  },
  {
   "cell_type": "code",
   "execution_count": 2,
   "id": "f9648c25-84a1-4765-9876-6619a444846c",
   "metadata": {
    "tags": []
   },
   "outputs": [
    {
     "name": "stdout",
     "output_type": "stream",
     "text": [
      "📦 Available versions for model: BikeSharingModel\n",
      "Version: 1, Stage: None, Status: READY, Run ID: a7750d532dd641e78c6c7879cc1b79ac\n"
     ]
    },
    {
     "name": "stdin",
     "output_type": "stream",
     "text": [
      "Enter the version number you want to download:  1\n"
     ]
    },
    {
     "data": {
      "application/vnd.jupyter.widget-view+json": {
       "model_id": "b27a17854bfd4df39189662489e23fdd",
       "version_major": 2,
       "version_minor": 0
      },
      "text/plain": [
       "Downloading artifacts:   0%|          | 0/5 [00:00<?, ?it/s]"
      ]
     },
     "metadata": {},
     "output_type": "display_data"
    },
    {
     "name": "stdout",
     "output_type": "stream",
     "text": [
      "✅ Model version 1 loaded successfully from MLflow.\n"
     ]
    }
   ],
   "source": [
    "## Initialize MLflow client\n",
    "MLFLOW_TRACKING_URL = 'https://mlflow-mlflow.apps.cluster-x5r72.dynamic.redhatworkshops.io'\n",
    "mlflow.set_tracking_uri(f\"{MLFLOW_TRACKING_URL}\")\n",
    "client = MlflowClient()\n",
    "\n",
    "model_name = \"BikeSharingModel\"\n",
    "\n",
    "# List available versions\n",
    "versions = client.search_model_versions(filter_string=f\"name='{model_name}'\", order_by=[\"version_number DESC\"])\n",
    "\n",
    "print(\"📦 Available versions for model:\", model_name)\n",
    "for v in versions:\n",
    "    print(f\"Version: {v.version}, Stage: {v.current_stage}, Status: {v.status}, Run ID: {v.run_id}\")\n",
    "\n",
    "# Ask the user to select a version\n",
    "selected_version = input(\"Enter the version number you want to download: \").strip()\n",
    "\n",
    "# Load the selected model version\n",
    "model_uri = f\"models:/{model_name}/{selected_version}\"\n",
    "model = mlflow.pyfunc.load_model(model_uri=model_uri)\n",
    "\n",
    "print(f\"✅ Model version {selected_version} loaded successfully from MLflow.\")"
   ]
  },
  {
   "cell_type": "markdown",
   "id": "3294b5a0-5aa9-4a2a-8937-14f0ddf07e5b",
   "metadata": {},
   "source": [
    "## 💾 Save the Selected Model Locally\n",
    "\n",
    "After downloading the desired model version from MLflow, we save it to the local `models/` directory using the `joblib` format.\n",
    "\n",
    "This step is essential for:\n",
    "- Packaging the model into a Docker container\n",
    "- Making the model available to inference services (e.g., FastAPI or Flask)\n",
    "- Versioning models on disk for offline use or audit trails\n",
    "\n",
    "The model file is named using the selected version number to avoid confusion and maintain clarity (e.g., `bike_model_v3.pkl`).\n"
   ]
  },
  {
   "cell_type": "code",
   "execution_count": 3,
   "id": "035dabea",
   "metadata": {
    "tags": []
   },
   "outputs": [
    {
     "name": "stdout",
     "output_type": "stream",
     "text": [
      "✅ Model version 1 downloaded from MLflow and saved to ./models/bike_model_v1.pkl\n"
     ]
    }
   ],
   "source": [
    "# Optionally, save it locally for container usage\n",
    "os.makedirs(\"./models\", exist_ok=True)\n",
    "model_path = f\"./models/bike_model_v{selected_version}.pkl\"\n",
    "joblib.dump(model, model_path)\n",
    "\n",
    "print(f\"✅ Model version {selected_version} downloaded from MLflow and saved to {model_path}\")"
   ]
  },
  {
   "cell_type": "markdown",
   "id": "bff91f72",
   "metadata": {},
   "source": [
    "## 🛠️ Create a REST API using FastAPI\n",
    "This API will load the model and expose an endpoint for predictions."
   ]
  },
  {
   "cell_type": "code",
   "execution_count": 4,
   "id": "c4a3f128",
   "metadata": {
    "tags": []
   },
   "outputs": [
    {
     "name": "stdout",
     "output_type": "stream",
     "text": [
      "Writing ./models/app.py\n"
     ]
    }
   ],
   "source": [
    "%%writefile ./models/app.py\n",
    "from fastapi import FastAPI\n",
    "import joblib\n",
    "import pandas as pd\n",
    "\n",
    "app = FastAPI()\n",
    "model = joblib.load(\"bike_model.pkl\")\n",
    "\n",
    "@app.post(\"/predict\")\n",
    "def predict(features: dict):\n",
    "    df = pd.DataFrame([features])\n",
    "    prediction = model.predict(df)[0]\n",
    "    return {\"prediction\": prediction}"
   ]
  },
  {
   "cell_type": "markdown",
   "id": "afe0a6b2",
   "metadata": {},
   "source": [
    "## 📦 Containerize with Docker\n",
    "Create a Dockerfile for the FastAPI app."
   ]
  },
  {
   "cell_type": "code",
   "execution_count": 5,
   "id": "f1e5c720",
   "metadata": {
    "tags": []
   },
   "outputs": [
    {
     "name": "stdout",
     "output_type": "stream",
     "text": [
      "Writing ./models/Cntainerfile\n"
     ]
    }
   ],
   "source": [
    "%%writefile ./models/Cntainerfile\n",
    "FROM python:3.9-slim\n",
    "WORKDIR /app\n",
    "COPY bike_model.pkl app.py ./\n",
    "RUN pip install fastapi[all] joblib pandas\n",
    "CMD [\"uvicorn\", \"app:app\", \"--host\", \"0.0.0.0\", \"--port\", \"8000\"]"
   ]
  },
  {
   "cell_type": "markdown",
   "id": "2be79771",
   "metadata": {},
   "source": [
    "## 🧱 Build and Run Docker Container Locally"
   ]
  },
  {
   "cell_type": "code",
   "execution_count": 5,
   "id": "84ff5474",
   "metadata": {
    "tags": []
   },
   "outputs": [
    {
     "name": "stdout",
     "output_type": "stream",
     "text": [
      "/usr/bin/sh: line 1: docker: command not found\n",
      "/usr/bin/sh: line 1: docker: command not found\n"
     ]
    }
   ],
   "source": [
    "!docker build -t bike-api ./models\n",
    "!docker run -d -p 8000:8000 --name bike-api bike-api"
   ]
  },
  {
   "cell_type": "markdown",
   "id": "fd58f6a7",
   "metadata": {},
   "source": [
    "## ☸️ Deploy to Kubernetes\n",
    "Create a Kubernetes deployment and service manifest."
   ]
  },
  {
   "cell_type": "code",
   "execution_count": null,
   "id": "5a919df8",
   "metadata": {},
   "outputs": [],
   "source": [
    "%%writefile ./models/k8s_deployment.yaml\n",
    "apiVersion: apps/v1\n",
    "kind: Deployment\n",
    "metadata:\n",
    "  name: bike-api\n",
    "spec:\n",
    "  replicas: 1\n",
    "  selector:\n",
    "    matchLabels:\n",
    "      app: bike-api\n",
    "  template:\n",
    "    metadata:\n",
    "      labels:\n",
    "        app: bike-api\n",
    "    spec:\n",
    "      containers:\n",
    "      - name: bike-api\n",
    "        image: bike-api:latest\n",
    "        ports:\n",
    "        - containerPort: 8000\n",
    "---\n",
    "apiVersion: v1\n",
    "kind: Service\n",
    "metadata:\n",
    "  name: bike-api-service\n",
    "spec:\n",
    "  selector:\n",
    "    app: bike-api\n",
    "  ports:\n",
    "    - protocol: TCP\n",
    "      port: 80\n",
    "      targetPort: 8000\n",
    "  type: NodePort"
   ]
  },
  {
   "cell_type": "markdown",
   "id": "c513d6a5",
   "metadata": {},
   "source": [
    "## 🚀 Deploy to Kubernetes"
   ]
  },
  {
   "cell_type": "code",
   "execution_count": null,
   "id": "88f48694",
   "metadata": {},
   "outputs": [],
   "source": [
    "!kubectl apply -f ./models/k8s_deployment.yaml"
   ]
  },
  {
   "cell_type": "markdown",
   "id": "a15da4c9",
   "metadata": {},
   "source": [
    "## 🧪 Test the API Endpoint"
   ]
  },
  {
   "cell_type": "code",
   "execution_count": null,
   "id": "e3b1db63",
   "metadata": {},
   "outputs": [],
   "source": [
    "# Replace <NodePort> with the actual exposed port\n",
    "!curl -X POST \"http://localhost:<NodePort>/predict\" -H \"Content-Type: application/json\" -d '{\"temp\": 25, \"hum\": 0.8, \"windspeed\": 0.1}'"
   ]
  },
  {
   "cell_type": "markdown",
   "id": "444ee4dd",
   "metadata": {},
   "source": [
    "## ✅ Summary\n",
    "- Exported the trained model\n",
    "- Built a FastAPI service for prediction\n",
    "- Containerized the API using Docker\n",
    "- Deployed the container to Kubernetes\n",
    "- Exposed and tested the endpoint"
   ]
  }
 ],
 "metadata": {
  "kernelspec": {
   "display_name": "Python 3.11",
   "language": "python",
   "name": "python3"
  },
  "language_info": {
   "codemirror_mode": {
    "name": "ipython",
    "version": 3
   },
   "file_extension": ".py",
   "mimetype": "text/x-python",
   "name": "python",
   "nbconvert_exporter": "python",
   "pygments_lexer": "ipython3",
   "version": "3.11.9"
  }
 },
 "nbformat": 4,
 "nbformat_minor": 5
}
