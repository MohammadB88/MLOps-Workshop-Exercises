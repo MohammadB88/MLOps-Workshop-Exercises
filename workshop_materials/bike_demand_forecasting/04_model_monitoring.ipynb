{
 "cells": [
  {
   "cell_type": "markdown",
   "id": "f1a55e52",
   "metadata": {},
   "source": [
    "# 📊 Module 4: Generate Reports for Data and Model Drift\n",
    "\n",
    "In this module, we'll use [Evidently](https://evidentlyai.com/) to generate reports that help monitor and detect:\n",
    "\n",
    "- **Data Drift**\n",
    "- **Target Drift**\n",
    "\n",
    "We'll start by loading reference and current data:\n",
    "- **Reference Data**: January & February 2011\n",
    "- **Current Data**: March 2011\n",
    "\n",
    "This simulates comparing a baseline dataset against new incoming production data.\n"
   ]
  },
  {
   "cell_type": "code",
   "execution_count": 1,
   "id": "60918ebd-2f41-4616-9515-6a07e771fee9",
   "metadata": {
    "collapsed": true,
    "jupyter": {
     "outputs_hidden": true
    },
    "scrolled": true
   },
   "outputs": [
    {
     "name": "stdout",
     "output_type": "stream",
     "text": [
      "Requirement already satisfied: requests in /opt/app-root/lib64/python3.11/site-packages (from -r requirements.txt (line 1)) (2.32.3)\n",
      "Requirement already satisfied: seaborn in /opt/app-root/lib64/python3.11/site-packages (from -r requirements.txt (line 2)) (0.13.2)\n",
      "Requirement already satisfied: evidently==0.6.7 in /opt/app-root/lib64/python3.11/site-packages (from -r requirements.txt (line 3)) (0.6.7)\n",
      "Requirement already satisfied: mlflow in /opt/app-root/lib64/python3.11/site-packages (from -r requirements.txt (line 4)) (2.22.1)\n",
      "Requirement already satisfied: plotly<6,>=5.10.0 in /opt/app-root/lib64/python3.11/site-packages (from evidently==0.6.7->-r requirements.txt (line 3)) (5.24.1)\n",
      "Requirement already satisfied: statsmodels>=0.12.2 in /opt/app-root/lib64/python3.11/site-packages (from evidently==0.6.7->-r requirements.txt (line 3)) (0.14.4)\n",
      "Requirement already satisfied: scikit-learn>=1.0.1 in /opt/app-root/lib64/python3.11/site-packages (from evidently==0.6.7->-r requirements.txt (line 3)) (1.6.1)\n",
      "Requirement already satisfied: pandas>=1.3.5 in /opt/app-root/lib64/python3.11/site-packages (from pandas[parquet]>=1.3.5->evidently==0.6.7->-r requirements.txt (line 3)) (2.2.3)\n",
      "Requirement already satisfied: numpy<2.1,>=1.22.0 in /opt/app-root/lib64/python3.11/site-packages (from evidently==0.6.7->-r requirements.txt (line 3)) (2.0.2)\n",
      "Requirement already satisfied: nltk>=3.6.7 in /opt/app-root/lib64/python3.11/site-packages (from evidently==0.6.7->-r requirements.txt (line 3)) (3.9.1)\n",
      "Requirement already satisfied: scipy>=1.10.0 in /opt/app-root/lib64/python3.11/site-packages (from evidently==0.6.7->-r requirements.txt (line 3)) (1.15.2)\n",
      "Requirement already satisfied: PyYAML>=5.4 in /opt/app-root/lib64/python3.11/site-packages (from evidently==0.6.7->-r requirements.txt (line 3)) (6.0.2)\n",
      "Requirement already satisfied: pydantic>=1.10.16 in /opt/app-root/lib64/python3.11/site-packages (from evidently==0.6.7->-r requirements.txt (line 3)) (1.10.21)\n",
      "Requirement already satisfied: litestar>=2.8.3 in /opt/app-root/lib64/python3.11/site-packages (from evidently==0.6.7->-r requirements.txt (line 3)) (2.16.0)\n",
      "Requirement already satisfied: typing-inspect>=0.9.0 in /opt/app-root/lib64/python3.11/site-packages (from evidently==0.6.7->-r requirements.txt (line 3)) (0.9.0)\n",
      "Requirement already satisfied: uvicorn>=0.22.0 in /opt/app-root/lib64/python3.11/site-packages (from uvicorn[standard]>=0.22.0->evidently==0.6.7->-r requirements.txt (line 3)) (0.34.3)\n",
      "Requirement already satisfied: watchdog>=3.0.0 in /opt/app-root/lib64/python3.11/site-packages (from evidently==0.6.7->-r requirements.txt (line 3)) (6.0.0)\n",
      "Requirement already satisfied: typer>=0.3 in /opt/app-root/lib64/python3.11/site-packages (from evidently==0.6.7->-r requirements.txt (line 3)) (0.16.0)\n",
      "Requirement already satisfied: rich>=13 in /opt/app-root/lib64/python3.11/site-packages (from evidently==0.6.7->-r requirements.txt (line 3)) (13.9.4)\n",
      "Requirement already satisfied: iterative-telemetry>=0.0.5 in /opt/app-root/lib64/python3.11/site-packages (from evidently==0.6.7->-r requirements.txt (line 3)) (0.0.10)\n",
      "Requirement already satisfied: dynaconf>=3.2.4 in /opt/app-root/lib64/python3.11/site-packages (from evidently==0.6.7->-r requirements.txt (line 3)) (3.2.11)\n",
      "Requirement already satisfied: certifi>=2024.7.4 in /opt/app-root/lib64/python3.11/site-packages (from evidently==0.6.7->-r requirements.txt (line 3)) (2025.1.31)\n",
      "Requirement already satisfied: urllib3>=1.26.19 in /opt/app-root/lib64/python3.11/site-packages (from evidently==0.6.7->-r requirements.txt (line 3)) (1.26.20)\n",
      "Requirement already satisfied: fsspec>=2024.6.1 in /opt/app-root/lib64/python3.11/site-packages (from evidently==0.6.7->-r requirements.txt (line 3)) (2025.3.0)\n",
      "Requirement already satisfied: ujson>=5.4.0 in /opt/app-root/lib64/python3.11/site-packages (from evidently==0.6.7->-r requirements.txt (line 3)) (5.10.0)\n",
      "Requirement already satisfied: deprecation>=2.1.0 in /opt/app-root/lib64/python3.11/site-packages (from evidently==0.6.7->-r requirements.txt (line 3)) (2.1.0)\n",
      "Requirement already satisfied: uuid6>=2024.7.10 in /opt/app-root/lib64/python3.11/site-packages (from evidently==0.6.7->-r requirements.txt (line 3)) (2024.7.10)\n",
      "Requirement already satisfied: cryptography>=43.0.1 in /opt/app-root/lib64/python3.11/site-packages (from evidently==0.6.7->-r requirements.txt (line 3)) (43.0.3)\n",
      "Requirement already satisfied: charset-normalizer<4,>=2 in /opt/app-root/lib64/python3.11/site-packages (from requests->-r requirements.txt (line 1)) (3.4.1)\n",
      "Requirement already satisfied: idna<4,>=2.5 in /opt/app-root/lib64/python3.11/site-packages (from requests->-r requirements.txt (line 1)) (3.10)\n",
      "Requirement already satisfied: matplotlib!=3.6.1,>=3.4 in /opt/app-root/lib64/python3.11/site-packages (from seaborn->-r requirements.txt (line 2)) (3.10.1)\n",
      "Requirement already satisfied: mlflow-skinny==2.22.1 in /opt/app-root/lib64/python3.11/site-packages (from mlflow->-r requirements.txt (line 4)) (2.22.1)\n",
      "Requirement already satisfied: Flask<4 in /opt/app-root/lib64/python3.11/site-packages (from mlflow->-r requirements.txt (line 4)) (3.1.1)\n",
      "Requirement already satisfied: Jinja2<4,>=2.11 in /opt/app-root/lib64/python3.11/site-packages (from mlflow->-r requirements.txt (line 4)) (3.1.6)\n",
      "Requirement already satisfied: alembic!=1.10.0,<2 in /opt/app-root/lib64/python3.11/site-packages (from mlflow->-r requirements.txt (line 4)) (1.16.1)\n",
      "Requirement already satisfied: docker<8,>=4.0.0 in /opt/app-root/lib64/python3.11/site-packages (from mlflow->-r requirements.txt (line 4)) (7.1.0)\n",
      "Requirement already satisfied: graphene<4 in /opt/app-root/lib64/python3.11/site-packages (from mlflow->-r requirements.txt (line 4)) (3.4.3)\n",
      "Requirement already satisfied: gunicorn<24 in /opt/app-root/lib64/python3.11/site-packages (from mlflow->-r requirements.txt (line 4)) (23.0.0)\n",
      "Requirement already satisfied: markdown<4,>=3.3 in /opt/app-root/lib64/python3.11/site-packages (from mlflow->-r requirements.txt (line 4)) (3.8)\n",
      "Requirement already satisfied: pyarrow<20,>=4.0.0 in /opt/app-root/lib64/python3.11/site-packages (from mlflow->-r requirements.txt (line 4)) (19.0.1)\n",
      "Requirement already satisfied: sqlalchemy<3,>=1.4.0 in /opt/app-root/lib64/python3.11/site-packages (from mlflow->-r requirements.txt (line 4)) (2.0.41)\n",
      "Requirement already satisfied: cachetools<6,>=5.0.0 in /opt/app-root/lib64/python3.11/site-packages (from mlflow-skinny==2.22.1->mlflow->-r requirements.txt (line 4)) (5.5.2)\n",
      "Requirement already satisfied: click<9,>=7.0 in /opt/app-root/lib64/python3.11/site-packages (from mlflow-skinny==2.22.1->mlflow->-r requirements.txt (line 4)) (8.1.8)\n",
      "Requirement already satisfied: cloudpickle<4 in /opt/app-root/lib64/python3.11/site-packages (from mlflow-skinny==2.22.1->mlflow->-r requirements.txt (line 4)) (3.1.1)\n",
      "Requirement already satisfied: databricks-sdk<1,>=0.20.0 in /opt/app-root/lib64/python3.11/site-packages (from mlflow-skinny==2.22.1->mlflow->-r requirements.txt (line 4)) (0.56.0)\n",
      "Requirement already satisfied: fastapi<1 in /opt/app-root/lib64/python3.11/site-packages (from mlflow-skinny==2.22.1->mlflow->-r requirements.txt (line 4)) (0.115.12)\n",
      "Requirement already satisfied: gitpython<4,>=3.1.9 in /opt/app-root/lib64/python3.11/site-packages (from mlflow-skinny==2.22.1->mlflow->-r requirements.txt (line 4)) (3.1.44)\n",
      "Requirement already satisfied: importlib_metadata!=4.7.0,<9,>=3.7.0 in /opt/app-root/lib64/python3.11/site-packages (from mlflow-skinny==2.22.1->mlflow->-r requirements.txt (line 4)) (8.7.0)\n",
      "Requirement already satisfied: opentelemetry-api<3,>=1.9.0 in /opt/app-root/lib64/python3.11/site-packages (from mlflow-skinny==2.22.1->mlflow->-r requirements.txt (line 4)) (1.34.0)\n",
      "Requirement already satisfied: opentelemetry-sdk<3,>=1.9.0 in /opt/app-root/lib64/python3.11/site-packages (from mlflow-skinny==2.22.1->mlflow->-r requirements.txt (line 4)) (1.34.0)\n",
      "Requirement already satisfied: packaging<25 in /opt/app-root/lib64/python3.11/site-packages (from mlflow-skinny==2.22.1->mlflow->-r requirements.txt (line 4)) (24.2)\n",
      "Requirement already satisfied: protobuf<7,>=3.12.0 in /opt/app-root/lib64/python3.11/site-packages (from mlflow-skinny==2.22.1->mlflow->-r requirements.txt (line 4)) (4.25.6)\n",
      "Requirement already satisfied: sqlparse<1,>=0.4.0 in /opt/app-root/lib64/python3.11/site-packages (from mlflow-skinny==2.22.1->mlflow->-r requirements.txt (line 4)) (0.5.3)\n",
      "Requirement already satisfied: typing-extensions<5,>=4.0.0 in /opt/app-root/lib64/python3.11/site-packages (from mlflow-skinny==2.22.1->mlflow->-r requirements.txt (line 4)) (4.12.2)\n",
      "Requirement already satisfied: Mako in /opt/app-root/lib64/python3.11/site-packages (from alembic!=1.10.0,<2->mlflow->-r requirements.txt (line 4)) (1.3.10)\n",
      "Requirement already satisfied: cffi>=1.12 in /opt/app-root/lib64/python3.11/site-packages (from cryptography>=43.0.1->evidently==0.6.7->-r requirements.txt (line 3)) (1.17.1)\n",
      "Requirement already satisfied: blinker>=1.9.0 in /opt/app-root/lib64/python3.11/site-packages (from Flask<4->mlflow->-r requirements.txt (line 4)) (1.9.0)\n",
      "Requirement already satisfied: itsdangerous>=2.2.0 in /opt/app-root/lib64/python3.11/site-packages (from Flask<4->mlflow->-r requirements.txt (line 4)) (2.2.0)\n",
      "Requirement already satisfied: markupsafe>=2.1.1 in /opt/app-root/lib64/python3.11/site-packages (from Flask<4->mlflow->-r requirements.txt (line 4)) (3.0.2)\n",
      "Requirement already satisfied: werkzeug>=3.1.0 in /opt/app-root/lib64/python3.11/site-packages (from Flask<4->mlflow->-r requirements.txt (line 4)) (3.1.3)\n",
      "Requirement already satisfied: graphql-core<3.3,>=3.1 in /opt/app-root/lib64/python3.11/site-packages (from graphene<4->mlflow->-r requirements.txt (line 4)) (3.2.6)\n",
      "Requirement already satisfied: graphql-relay<3.3,>=3.1 in /opt/app-root/lib64/python3.11/site-packages (from graphene<4->mlflow->-r requirements.txt (line 4)) (3.2.0)\n",
      "Requirement already satisfied: python-dateutil<3,>=2.7.0 in /opt/app-root/lib64/python3.11/site-packages (from graphene<4->mlflow->-r requirements.txt (line 4)) (2.9.0.post0)\n",
      "Requirement already satisfied: appdirs in /opt/app-root/lib64/python3.11/site-packages (from iterative-telemetry>=0.0.5->evidently==0.6.7->-r requirements.txt (line 3)) (1.4.4)\n",
      "Requirement already satisfied: filelock in /opt/app-root/lib64/python3.11/site-packages (from iterative-telemetry>=0.0.5->evidently==0.6.7->-r requirements.txt (line 3)) (3.18.0)\n",
      "Requirement already satisfied: distro in /opt/app-root/lib64/python3.11/site-packages (from iterative-telemetry>=0.0.5->evidently==0.6.7->-r requirements.txt (line 3)) (1.9.0)\n",
      "Requirement already satisfied: anyio>=3 in /opt/app-root/lib64/python3.11/site-packages (from litestar>=2.8.3->evidently==0.6.7->-r requirements.txt (line 3)) (4.9.0)\n",
      "Requirement already satisfied: httpx>=0.22 in /opt/app-root/lib64/python3.11/site-packages (from litestar>=2.8.3->evidently==0.6.7->-r requirements.txt (line 3)) (0.28.1)\n",
      "Requirement already satisfied: litestar-htmx>=0.4.0 in /opt/app-root/lib64/python3.11/site-packages (from litestar>=2.8.3->evidently==0.6.7->-r requirements.txt (line 3)) (0.4.1)\n",
      "Requirement already satisfied: msgspec>=0.18.2 in /opt/app-root/lib64/python3.11/site-packages (from litestar>=2.8.3->evidently==0.6.7->-r requirements.txt (line 3)) (0.19.0)\n",
      "Requirement already satisfied: multidict>=6.0.2 in /opt/app-root/lib64/python3.11/site-packages (from litestar>=2.8.3->evidently==0.6.7->-r requirements.txt (line 3)) (6.2.0)\n",
      "Requirement already satisfied: multipart>=1.2.0 in /opt/app-root/lib64/python3.11/site-packages (from litestar>=2.8.3->evidently==0.6.7->-r requirements.txt (line 3)) (1.2.1)\n",
      "Requirement already satisfied: polyfactory>=2.6.3 in /opt/app-root/lib64/python3.11/site-packages (from litestar>=2.8.3->evidently==0.6.7->-r requirements.txt (line 3)) (2.21.0)\n",
      "Requirement already satisfied: rich-click in /opt/app-root/lib64/python3.11/site-packages (from litestar>=2.8.3->evidently==0.6.7->-r requirements.txt (line 3)) (1.8.9)\n",
      "Requirement already satisfied: contourpy>=1.0.1 in /opt/app-root/lib64/python3.11/site-packages (from matplotlib!=3.6.1,>=3.4->seaborn->-r requirements.txt (line 2)) (1.3.1)\n",
      "Requirement already satisfied: cycler>=0.10 in /opt/app-root/lib64/python3.11/site-packages (from matplotlib!=3.6.1,>=3.4->seaborn->-r requirements.txt (line 2)) (0.12.1)\n",
      "Requirement already satisfied: fonttools>=4.22.0 in /opt/app-root/lib64/python3.11/site-packages (from matplotlib!=3.6.1,>=3.4->seaborn->-r requirements.txt (line 2)) (4.56.0)\n",
      "Requirement already satisfied: kiwisolver>=1.3.1 in /opt/app-root/lib64/python3.11/site-packages (from matplotlib!=3.6.1,>=3.4->seaborn->-r requirements.txt (line 2)) (1.4.8)\n",
      "Requirement already satisfied: pillow>=8 in /opt/app-root/lib64/python3.11/site-packages (from matplotlib!=3.6.1,>=3.4->seaborn->-r requirements.txt (line 2)) (11.1.0)\n",
      "Requirement already satisfied: pyparsing>=2.3.1 in /opt/app-root/lib64/python3.11/site-packages (from matplotlib!=3.6.1,>=3.4->seaborn->-r requirements.txt (line 2)) (3.2.1)\n",
      "Requirement already satisfied: joblib in /opt/app-root/lib64/python3.11/site-packages (from nltk>=3.6.7->evidently==0.6.7->-r requirements.txt (line 3)) (1.4.2)\n",
      "Requirement already satisfied: regex>=2021.8.3 in /opt/app-root/lib64/python3.11/site-packages (from nltk>=3.6.7->evidently==0.6.7->-r requirements.txt (line 3)) (2024.11.6)\n",
      "Requirement already satisfied: tqdm in /opt/app-root/lib64/python3.11/site-packages (from nltk>=3.6.7->evidently==0.6.7->-r requirements.txt (line 3)) (4.67.1)\n",
      "Requirement already satisfied: pytz>=2020.1 in /opt/app-root/lib64/python3.11/site-packages (from pandas>=1.3.5->pandas[parquet]>=1.3.5->evidently==0.6.7->-r requirements.txt (line 3)) (2025.1)\n",
      "Requirement already satisfied: tzdata>=2022.7 in /opt/app-root/lib64/python3.11/site-packages (from pandas>=1.3.5->pandas[parquet]>=1.3.5->evidently==0.6.7->-r requirements.txt (line 3)) (2025.1)\n",
      "Requirement already satisfied: tenacity>=6.2.0 in /opt/app-root/lib64/python3.11/site-packages (from plotly<6,>=5.10.0->evidently==0.6.7->-r requirements.txt (line 3)) (9.0.0)\n",
      "Requirement already satisfied: markdown-it-py>=2.2.0 in /opt/app-root/lib64/python3.11/site-packages (from rich>=13->evidently==0.6.7->-r requirements.txt (line 3)) (3.0.0)\n",
      "Requirement already satisfied: pygments<3.0.0,>=2.13.0 in /opt/app-root/lib64/python3.11/site-packages (from rich>=13->evidently==0.6.7->-r requirements.txt (line 3)) (2.19.1)\n",
      "Requirement already satisfied: threadpoolctl>=3.1.0 in /opt/app-root/lib64/python3.11/site-packages (from scikit-learn>=1.0.1->evidently==0.6.7->-r requirements.txt (line 3)) (3.6.0)\n",
      "Requirement already satisfied: greenlet>=1 in /opt/app-root/lib64/python3.11/site-packages (from sqlalchemy<3,>=1.4.0->mlflow->-r requirements.txt (line 4)) (3.2.3)\n",
      "Requirement already satisfied: patsy>=0.5.6 in /opt/app-root/lib64/python3.11/site-packages (from statsmodels>=0.12.2->evidently==0.6.7->-r requirements.txt (line 3)) (1.0.1)\n",
      "Requirement already satisfied: shellingham>=1.3.0 in /opt/app-root/lib64/python3.11/site-packages (from typer>=0.3->evidently==0.6.7->-r requirements.txt (line 3)) (1.5.4)\n",
      "Requirement already satisfied: mypy-extensions>=0.3.0 in /opt/app-root/lib64/python3.11/site-packages (from typing-inspect>=0.9.0->evidently==0.6.7->-r requirements.txt (line 3)) (1.0.0)\n",
      "Requirement already satisfied: h11>=0.8 in /opt/app-root/lib64/python3.11/site-packages (from uvicorn>=0.22.0->uvicorn[standard]>=0.22.0->evidently==0.6.7->-r requirements.txt (line 3)) (0.14.0)\n",
      "Requirement already satisfied: httptools>=0.6.3 in /opt/app-root/lib64/python3.11/site-packages (from uvicorn[standard]>=0.22.0->evidently==0.6.7->-r requirements.txt (line 3)) (0.6.4)\n",
      "Requirement already satisfied: python-dotenv>=0.13 in /opt/app-root/lib64/python3.11/site-packages (from uvicorn[standard]>=0.22.0->evidently==0.6.7->-r requirements.txt (line 3)) (1.1.0)\n",
      "Requirement already satisfied: uvloop>=0.15.1 in /opt/app-root/lib64/python3.11/site-packages (from uvicorn[standard]>=0.22.0->evidently==0.6.7->-r requirements.txt (line 3)) (0.21.0)\n",
      "Requirement already satisfied: watchfiles>=0.13 in /opt/app-root/lib64/python3.11/site-packages (from uvicorn[standard]>=0.22.0->evidently==0.6.7->-r requirements.txt (line 3)) (1.0.5)\n",
      "Requirement already satisfied: websockets>=10.4 in /opt/app-root/lib64/python3.11/site-packages (from uvicorn[standard]>=0.22.0->evidently==0.6.7->-r requirements.txt (line 3)) (15.0.1)\n",
      "Requirement already satisfied: sniffio>=1.1 in /opt/app-root/lib64/python3.11/site-packages (from anyio>=3->litestar>=2.8.3->evidently==0.6.7->-r requirements.txt (line 3)) (1.3.1)\n",
      "Requirement already satisfied: pycparser in /opt/app-root/lib64/python3.11/site-packages (from cffi>=1.12->cryptography>=43.0.1->evidently==0.6.7->-r requirements.txt (line 3)) (2.22)\n",
      "Requirement already satisfied: google-auth~=2.0 in /opt/app-root/lib64/python3.11/site-packages (from databricks-sdk<1,>=0.20.0->mlflow-skinny==2.22.1->mlflow->-r requirements.txt (line 4)) (2.38.0)\n",
      "Requirement already satisfied: starlette<0.47.0,>=0.40.0 in /opt/app-root/lib64/python3.11/site-packages (from fastapi<1->mlflow-skinny==2.22.1->mlflow->-r requirements.txt (line 4)) (0.46.2)\n",
      "Requirement already satisfied: gitdb<5,>=4.0.1 in /opt/app-root/lib64/python3.11/site-packages (from gitpython<4,>=3.1.9->mlflow-skinny==2.22.1->mlflow->-r requirements.txt (line 4)) (4.0.12)\n",
      "Requirement already satisfied: httpcore==1.* in /opt/app-root/lib64/python3.11/site-packages (from httpx>=0.22->litestar>=2.8.3->evidently==0.6.7->-r requirements.txt (line 3)) (1.0.7)\n",
      "Requirement already satisfied: zipp>=3.20 in /opt/app-root/lib64/python3.11/site-packages (from importlib_metadata!=4.7.0,<9,>=3.7.0->mlflow-skinny==2.22.1->mlflow->-r requirements.txt (line 4)) (3.22.0)\n",
      "Requirement already satisfied: mdurl~=0.1 in /opt/app-root/lib64/python3.11/site-packages (from markdown-it-py>=2.2.0->rich>=13->evidently==0.6.7->-r requirements.txt (line 3)) (0.1.2)\n",
      "Requirement already satisfied: opentelemetry-semantic-conventions==0.55b0 in /opt/app-root/lib64/python3.11/site-packages (from opentelemetry-sdk<3,>=1.9.0->mlflow-skinny==2.22.1->mlflow->-r requirements.txt (line 4)) (0.55b0)\n",
      "Requirement already satisfied: faker>=5.0.0 in /opt/app-root/lib64/python3.11/site-packages (from polyfactory>=2.6.3->litestar>=2.8.3->evidently==0.6.7->-r requirements.txt (line 3)) (37.3.0)\n",
      "Requirement already satisfied: six>=1.5 in /opt/app-root/lib64/python3.11/site-packages (from python-dateutil<3,>=2.7.0->graphene<4->mlflow->-r requirements.txt (line 4)) (1.17.0)\n",
      "Requirement already satisfied: smmap<6,>=3.0.1 in /opt/app-root/lib64/python3.11/site-packages (from gitdb<5,>=4.0.1->gitpython<4,>=3.1.9->mlflow-skinny==2.22.1->mlflow->-r requirements.txt (line 4)) (5.0.2)\n",
      "Requirement already satisfied: pyasn1-modules>=0.2.1 in /opt/app-root/lib64/python3.11/site-packages (from google-auth~=2.0->databricks-sdk<1,>=0.20.0->mlflow-skinny==2.22.1->mlflow->-r requirements.txt (line 4)) (0.4.1)\n",
      "Requirement already satisfied: rsa<5,>=3.1.4 in /opt/app-root/lib64/python3.11/site-packages (from google-auth~=2.0->databricks-sdk<1,>=0.20.0->mlflow-skinny==2.22.1->mlflow->-r requirements.txt (line 4)) (4.9)\n",
      "Requirement already satisfied: pyasn1<0.7.0,>=0.4.6 in /opt/app-root/lib64/python3.11/site-packages (from pyasn1-modules>=0.2.1->google-auth~=2.0->databricks-sdk<1,>=0.20.0->mlflow-skinny==2.22.1->mlflow->-r requirements.txt (line 4)) (0.6.1)\n",
      "\n",
      "\u001b[1m[\u001b[0m\u001b[34;49mnotice\u001b[0m\u001b[1;39;49m]\u001b[0m\u001b[39;49m A new release of pip is available: \u001b[0m\u001b[31;49m24.2\u001b[0m\u001b[39;49m -> \u001b[0m\u001b[32;49m25.1.1\u001b[0m\n",
      "\u001b[1m[\u001b[0m\u001b[34;49mnotice\u001b[0m\u001b[1;39;49m]\u001b[0m\u001b[39;49m To update, run: \u001b[0m\u001b[32;49mpip install --upgrade pip\u001b[0m\n"
     ]
    }
   ],
   "source": [
    "# Install requirements\n",
    "!pip install -r requirements.txt"
   ]
  },
  {
   "cell_type": "markdown",
   "id": "edfdfa50-f3af-440c-8272-e913acb5d1f9",
   "metadata": {},
   "source": [
    "## 📦 Import Required Libraries\n",
    "\n",
    "Before we proceed with training and tracking our machine learning model, we need to import the necessary libraries.\n"
   ]
  },
  {
   "cell_type": "code",
   "execution_count": 1,
   "id": "59681118-b343-496c-a714-5518bab13bfb",
   "metadata": {
    "tags": []
   },
   "outputs": [],
   "source": [
    "# Import necessary modules\n",
    "import os\n",
    "import joblib\n",
    "\n",
    "from sklearn.model_selection import train_test_split\n",
    "from sklearn.ensemble import RandomForestRegressor\n",
    "from sklearn.metrics import mean_squared_error, r2_score\n",
    "\n",
    "import pandas as pd\n",
    "import numpy as np\n",
    "\n",
    "from evidently import ColumnMapping\n",
    "from evidently.report import Report\n",
    "from evidently.metric_preset import DataDriftPreset, TargetDriftPreset, RegressionPreset\n",
    "from evidently.metric_preset import DataQualityPreset\n",
    "from evidently.metric_preset import RegressionPreset\n",
    "\n",
    "import mlflow\n",
    "import mlflow.sklearn\n",
    "from mlflow.tracking import MlflowClient"
   ]
  },
  {
   "cell_type": "markdown",
   "id": "cbd9b98b",
   "metadata": {},
   "source": [
    "## 📁 Load Reference and Current Data"
   ]
  },
  {
   "cell_type": "code",
   "execution_count": 2,
   "id": "0af20e30",
   "metadata": {
    "tags": []
   },
   "outputs": [
    {
     "name": "stdout",
     "output_type": "stream",
     "text": [
      "Reference data shape: (1337, 17)\n",
      "Current data shape: (730, 17)\n"
     ]
    }
   ],
   "source": [
    "# Load reference (January) and current (February) datasets\n",
    "data_path = \"./data/processed/\"\n",
    "\n",
    "data_01 = pd.read_csv(data_path + 'data_2011_01.csv')\n",
    "data_02 = pd.read_csv(data_path + 'data_2011_02.csv')\n",
    "\n",
    "reference_data = pd.concat([data_01, data_02], ignore_index=True)\n",
    "\n",
    "current_data = pd.read_csv(\"./data/processed/data_2011_03.csv\")\n",
    "\n",
    "# Preview shapes and basic info\n",
    "print(\"Reference data shape:\", reference_data.shape)\n",
    "print(\"Current data shape:\", current_data.shape)\n",
    "# reference_data.head()"
   ]
  },
  {
   "cell_type": "markdown",
   "id": "497ba205-fa34-4b6c-9207-c0ad75ed8374",
   "metadata": {
    "tags": []
   },
   "source": [
    "## 🗺️ Define Column Mapping\n",
    "\n",
    "Evidently supports specifying column roles explicitly via `ColumnMapping`, which helps produce more accurate and meaningful metrics.\n",
    "\n",
    "Here, we define:\n",
    "- `target`: the actual value to predict (`count`)\n",
    "- `prediction`: (optional) placeholder for model prediction column\n",
    "- `numerical_features`: continuous input features\n",
    "- `categorical_features`: categorical or discrete input features\n"
   ]
  },
  {
   "cell_type": "code",
   "execution_count": 11,
   "id": "5ba13f02-6046-49d3-8e28-019cf104e424",
   "metadata": {
    "tags": []
   },
   "outputs": [],
   "source": [
    "target=\"count\"\n",
    "prediction=\"prediction\"\n",
    "numerical_features=['temp', 'atemp', 'humidity', 'windspeed', 'hour', 'weekday']\n",
    "categorical_features=['season', 'holiday', 'workingday']\n",
    "\n",
    "column_mapping = ColumnMapping(\n",
    "    target=\"count\",\n",
    "    prediction=\"prediction\",\n",
    "    numerical_features=['temp', 'atemp', 'humidity', 'windspeed', 'hour', 'weekday'],\n",
    "    categorical_features=['season', 'holiday', 'workingday']\n",
    "    )\n",
    "# column_mapping.target = target\n",
    "# column_mapping.prediction = prediction\n",
    "# column_mapping.numerical_features = numerical_features\n",
    "# column_mapping.categorical_features = categorical_features"
   ]
  },
  {
   "cell_type": "markdown",
   "id": "4ab8d0a9-0c2a-4b95-ba56-f9d75656efaf",
   "metadata": {},
   "source": [
    "## 🧳 Select and Load a trained Model Version from MLflow\n",
    "\n",
    "In this step, we interact with the MLflow Model Registry to:\n",
    "\n",
    "1. **List all available versions** of a registered model (`BikeSharingModel`) along with their metadata, such as version number, stage, and run ID.\n",
    "2. **Prompt the user** to choose a specific version to use for deployment or analysis.\n",
    "3. **Load the selected model** from the MLflow tracking server using the model URI.\n",
    "\n",
    "This makes it easy to manage multiple iterations of a model and ensures reproducibility when deploying or testing specific versions.\n"
   ]
  },
  {
   "cell_type": "code",
   "execution_count": 4,
   "id": "dbe78ad1-3adc-4205-87bd-fdd4d9de7136",
   "metadata": {
    "tags": []
   },
   "outputs": [
    {
     "name": "stdout",
     "output_type": "stream",
     "text": [
      "📦 Available versions for model: BikeSharingModel\n",
      "Version: 1, Stage: None, Status: READY, Run ID: a7750d532dd641e78c6c7879cc1b79ac\n"
     ]
    },
    {
     "name": "stdin",
     "output_type": "stream",
     "text": [
      "Enter the version number you want to download:  1\n"
     ]
    },
    {
     "data": {
      "application/vnd.jupyter.widget-view+json": {
       "model_id": "49a3b119e9a74331ac4a8928433c96a4",
       "version_major": 2,
       "version_minor": 0
      },
      "text/plain": [
       "Downloading artifacts:   0%|          | 0/5 [00:00<?, ?it/s]"
      ]
     },
     "metadata": {},
     "output_type": "display_data"
    },
    {
     "name": "stdout",
     "output_type": "stream",
     "text": [
      "✅ Model version 1 loaded successfully from MLflow.\n"
     ]
    }
   ],
   "source": [
    "import mlflow\n",
    "from mlflow.tracking import MlflowClient\n",
    "\n",
    "# Initialize MLflow client\n",
    "MLFLOW_TRACKING_URI = 'https://mlflow-mlflow.apps.cluster-x5r72.dynamic.redhatworkshops.io'\n",
    "mlflow.set_tracking_uri(f\"{MLFLOW_TRACKING_URI}\")\n",
    "client = MlflowClient()\n",
    "\n",
    "model_name = \"BikeSharingModel\"\n",
    "\n",
    "# List available versions\n",
    "versions = client.search_model_versions(filter_string=f\"name='{model_name}'\", order_by=[\"version_number DESC\"])\n",
    "\n",
    "print(\"📦 Available versions for model:\", model_name)\n",
    "for v in versions:\n",
    "    print(f\"Version: {v.version}, Stage: {v.current_stage}, Status: {v.status}, Run ID: {v.run_id}\")\n",
    "\n",
    "# Ask the user to select a version\n",
    "selected_version = input(\"Enter the version number you want to download: \").strip()\n",
    "\n",
    "# Load the selected model version\n",
    "model_uri = f\"models:/{model_name}/{selected_version}\"\n",
    "model = mlflow.pyfunc.load_model(model_uri=model_uri)\n",
    "\n",
    "print(f\"✅ Model version {selected_version} loaded successfully from MLflow.\")"
   ]
  },
  {
   "cell_type": "markdown",
   "id": "1a0267df",
   "metadata": {
    "tags": []
   },
   "source": [
    "## 📈 Generate a Regression Performance Report\n",
    "\n",
    "The **Regression Performance Report** evaluates how well a model performs over time.\n",
    "\n",
    "To simulate production monitoring, we'll assume that a `prediction` column already exists in the dataset (this could be added via an inference pipeline). The report will compare the predicted and actual target values (`count`) and show metrics like:\n",
    "- RMSE\n",
    "- R²\n",
    "- Error distribution\n",
    "- Prediction quality\n"
   ]
  },
  {
   "cell_type": "code",
   "execution_count": 12,
   "id": "bd6c543d-6fe5-4ffe-856d-0ed99e32cb7d",
   "metadata": {
    "tags": []
   },
   "outputs": [],
   "source": [
    "reference_data[\"prediction\"] = model.predict(reference_data[numerical_features + categorical_features])\n",
    "current_data[\"prediction\"] = model.predict(current_data[numerical_features + categorical_features])\n",
    "# reference_data.head()"
   ]
  },
  {
   "cell_type": "code",
   "execution_count": 6,
   "id": "334f47d3",
   "metadata": {
    "tags": []
   },
   "outputs": [
    {
     "name": "stderr",
     "output_type": "stream",
     "text": [
      "/opt/app-root/lib64/python3.11/site-packages/sklearn/metrics/_regression.py:1266: UndefinedMetricWarning: R^2 score is not well-defined with less than two samples.\n",
      "  warnings.warn(msg, UndefinedMetricWarning)\n"
     ]
    },
    {
     "name": "stdout",
     "output_type": "stream",
     "text": [
      "✅ Regression Performance report saved to ./reports/regression_performance_report.html\n"
     ]
    }
   ],
   "source": [
    "# First, simulate prediction column (for the sake of the report)\n",
    "# In production, this should come from your model inference pipeline\n",
    "#reference_data[\"prediction\"] = reference_data[\"count\"] * 0.95  # simulate slight underprediction\n",
    "#current_data[\"prediction\"] = current_data[\"count\"] * 0.95\n",
    "#reference_data[\"prediction\"] = model.predict(reference_data)\n",
    "#current_data[\"prediction\"] = model.predict(current_data)\n",
    "\n",
    "# Create the Regression Performance report\n",
    "regression_report = Report(metrics=[RegressionPreset()])\n",
    "\n",
    "# Run the report with column mapping\n",
    "regression_report.run(\n",
    "    reference_data=reference_data,\n",
    "    current_data=current_data,\n",
    "    column_mapping=column_mapping\n",
    ")\n",
    "\n",
    "# Save the report as HTML\n",
    "os.makedirs(\"./reports\", exist_ok=True)\n",
    "output_path = \"./reports/regression_performance_report.html\"\n",
    "regression_report.save_html(output_path)\n",
    "\n",
    "print(f\"✅ Regression Performance report saved to {output_path}\")"
   ]
  },
  {
   "cell_type": "markdown",
   "id": "d407cb22",
   "metadata": {},
   "source": [
    "## 📉 Generate a Data Drift Report\n",
    "\n",
    "We'll use the `DataDriftReport` class from Evidently to compare feature distributions between the reference (January) and current (February) datasets.\n",
    "\n",
    "This report will help us understand whether any input features have changed significantly, which may impact model predictions.\n"
   ]
  },
  {
   "cell_type": "code",
   "execution_count": 15,
   "id": "2285a99c",
   "metadata": {
    "tags": []
   },
   "outputs": [
    {
     "name": "stdout",
     "output_type": "stream",
     "text": [
      "✅ Data Drift report saved to ./reports/data_drift_report.html\n"
     ]
    }
   ],
   "source": [
    "# Create a report with the Data Drift preset\n",
    "data_drift_report = Report(metrics=[DataDriftPreset()])\n",
    "\n",
    "# Run the comparison\n",
    "data_drift_report.run(\n",
    "        reference_data=reference_data[numerical_features + categorical_features], \n",
    "        current_data=current_data[numerical_features + categorical_features], \n",
    "        column_mapping=column_mapping\n",
    "    )\n",
    "\n",
    "# Create directories if they don't exist\n",
    "report_dir = \"./reports\"\n",
    "os.makedirs(report_dir, exist_ok=True)\n",
    "\n",
    "# Save the report as an HTML file\n",
    "output_path = \"./reports/data_drift_report.html\"\n",
    "data_drift_report.save_html(output_path)\n",
    "\n",
    "print(f\"✅ Data Drift report saved to {output_path}\")"
   ]
  },
  {
   "cell_type": "markdown",
   "id": "045780da",
   "metadata": {},
   "source": [
    "## 🎯 Generate a Target Drift Report\n",
    "\n",
    "We'll now generate a **Target Drift Report** using Evidently.\n",
    "\n",
    "This report focuses specifically on changes in the distribution of the **target variable** (`cnt`), which represents the total number of bike rentals. Drift in the target distribution can indicate seasonal or behavioral changes in users that may affect model performance.\n"
   ]
  },
  {
   "cell_type": "code",
   "execution_count": 19,
   "id": "64fc0d33",
   "metadata": {
    "tags": []
   },
   "outputs": [
    {
     "name": "stdout",
     "output_type": "stream",
     "text": [
      "✅ Target Drift report saved to ./reports/target_drift_report.html\n"
     ]
    }
   ],
   "source": [
    "# Create the Target Drift report\n",
    "target_drift_report = Report(metrics=[TargetDriftPreset()])\n",
    "\n",
    "# Run the report with column mapping\n",
    "target_drift_report.run(\n",
    "    reference_data=reference_data,\n",
    "    current_data=current_data,\n",
    "    column_mapping=column_mapping\n",
    ")\n",
    "\n",
    "# Save the report as HTML\n",
    "output_path = \"./reports/target_drift_report.html\"\n",
    "target_drift_report.save_html(output_path)\n",
    "\n",
    "print(f\"✅ Target Drift report saved to {output_path}\")"
   ]
  },
  {
   "cell_type": "markdown",
   "id": "27513eb7",
   "metadata": {},
   "source": [
    "# ✅ Summary\n",
    "\n",
    "In this module, we learned how to use Evidently to monitor data and model performance over time.\n",
    "\n",
    "We completed the following steps:\n",
    "- ✅ Evaluated **Regression Model Performance** using simulated predictions\n",
    "- ✅ Compared new dataset (March) with training data (January & February) to detect **Data Drift**\n",
    "- ✅ Analyzed changes in the **Target variable** distribution\n",
    "\n",
    "These reports can be integrated into automated pipelines to continuously track the health of machine learning systems in production.\n"
   ]
  },
  {
   "cell_type": "code",
   "execution_count": null,
   "id": "54c9b93f-3820-4f6a-9786-aa097fecbadd",
   "metadata": {},
   "outputs": [],
   "source": []
  },
  {
   "cell_type": "code",
   "execution_count": null,
   "id": "fc0cb610-918e-445d-9075-8b8f4a81d823",
   "metadata": {},
   "outputs": [],
   "source": []
  },
  {
   "cell_type": "code",
   "execution_count": null,
   "id": "d6563dd9-0b56-4493-ab5f-1fa97ddc4aa0",
   "metadata": {},
   "outputs": [],
   "source": []
  },
  {
   "cell_type": "code",
   "execution_count": null,
   "id": "124f6bd6-77a1-4197-968f-ef1bfe074ff1",
   "metadata": {},
   "outputs": [],
   "source": []
  },
  {
   "cell_type": "code",
   "execution_count": null,
   "id": "6e21c3cb-fdf4-49b1-9af1-3365e667e8f1",
   "metadata": {},
   "outputs": [],
   "source": []
  },
  {
   "cell_type": "markdown",
   "id": "117cd345",
   "metadata": {},
   "source": [
    "## 🧪 Generate a Data Quality Report\n",
    "\n",
    "This report helps identify common data issues such as:\n",
    "- Missing values\n",
    "- Unexpected or invalid values\n",
    "- Type mismatches\n",
    "- Constant or duplicate columns\n",
    "\n",
    "This is useful for ensuring the data pipeline remains clean and reliable over time.\n",
    "``\n"
   ]
  },
  {
   "cell_type": "code",
   "execution_count": null,
   "id": "8307d766",
   "metadata": {
    "scrolled": true,
    "tags": []
   },
   "outputs": [],
   "source": [
    "# Create the Data Quality report\n",
    "data_quality_report = Report(metrics=[DataQualityPreset()])\n",
    "\n",
    "# Run the report with column mapping\n",
    "data_quality_report.run(\n",
    "    reference_data=reference_data,\n",
    "    current_data=current_data,\n",
    "    column_mapping=column_mapping\n",
    ")\n",
    "\n",
    "# Save the report as HTML\n",
    "output_path = \"./reports/data_quality_report.html\"\n",
    "data_quality_report.save_html(output_path)\n",
    "\n",
    "print(f\"✅ Data Quality report saved to {output_path}\")\n"
   ]
  }
 ],
 "metadata": {
  "kernelspec": {
   "display_name": "Python 3.11",
   "language": "python",
   "name": "python3"
  },
  "language_info": {
   "codemirror_mode": {
    "name": "ipython",
    "version": 3
   },
   "file_extension": ".py",
   "mimetype": "text/x-python",
   "name": "python",
   "nbconvert_exporter": "python",
   "pygments_lexer": "ipython3",
   "version": "3.11.9"
  }
 },
 "nbformat": 4,
 "nbformat_minor": 5
}
