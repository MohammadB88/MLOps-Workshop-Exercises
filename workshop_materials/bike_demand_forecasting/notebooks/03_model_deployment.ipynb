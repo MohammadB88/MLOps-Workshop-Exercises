{
 "cells": [
  {
   "cell_type": "markdown",
   "id": "0c71bd30",
   "metadata": {},
   "source": [
    "# 🚀 Module 3: Model Packaging and Deployment on Kubernetes\n",
    "\n",
    "In this module, we will:\n",
    "1. Load the Trained Model from MLflow\n",
    "2. Build a REST API for model inference\n",
    "3. Create a Dockerfile to containerize the service\n",
    "4. Deploy the container to a Kubernetes cluster (Minikube or OpenShift)\n",
    "5. Optionally, expose and test the deployed service"
   ]
  },
  {
   "cell_type": "markdown",
   "id": "1ee6dfae",
   "metadata": {},
   "source": [
    "## 🧳 Step 1: Load the Trained Model from MLflow  \n",
    "\n",
    "Retrieve the registered model that you tained in the last step from the MLflow server and save it as a `.pkl` file for use in the API.\n"
   ]
  },
  {
   "cell_type": "code",
   "execution_count": 2,
   "id": "035dabea",
   "metadata": {
    "tags": []
   },
   "outputs": [
    {
     "data": {
      "application/vnd.jupyter.widget-view+json": {
       "model_id": "942f6ec63a1d4166b4a6fc4b78231b11",
       "version_major": 2,
       "version_minor": 0
      },
      "text/plain": [
       "Downloading artifacts:   0%|          | 0/5 [00:00<?, ?it/s]"
      ]
     },
     "metadata": {},
     "output_type": "display_data"
    },
    {
     "name": "stdout",
     "output_type": "stream",
     "text": [
      "Model downloaded from MLflow and saved to ../models/bike_model.pkl\n"
     ]
    }
   ],
   "source": [
    "import mlflow\n",
    "import joblib\n",
    "import os\n",
    "\n",
    "# Set the MLflow tracking URI\n",
    "mlflow.set_tracking_uri(\"http://localhost:5000\")\n",
    "\n",
    "# Define model name and version or stage\n",
    "model_name = \"BikeSharingModel\"\n",
    "model_stage = \"None\"  # Change to \"Production\" or \"Staging\" if you're using stages\n",
    "\n",
    "# Load the model from the MLflow Model Registry\n",
    "model_uri = f\"models:/{model_name}/{model_stage if model_stage != 'None' else '1'}\"\n",
    "model = mlflow.pyfunc.load_model(model_uri)\n",
    "\n",
    "# Optionally, save it locally for container usage\n",
    "os.makedirs(\"../models\", exist_ok=True)\n",
    "joblib.dump(model, \"../models/bike_model.pkl\")\n",
    "print(\"Model downloaded from MLflow and saved to ../models/bike_model.pkl\")\n"
   ]
  },
  {
   "cell_type": "markdown",
   "id": "bff91f72",
   "metadata": {},
   "source": [
    "## 🛠️ Step 2: Create a REST API using FastAPI\n",
    "This API will load the model and expose an endpoint for predictions."
   ]
  },
  {
   "cell_type": "code",
   "execution_count": 3,
   "id": "c4a3f128",
   "metadata": {
    "tags": []
   },
   "outputs": [
    {
     "name": "stdout",
     "output_type": "stream",
     "text": [
      "Writing ../models/app.py\n"
     ]
    }
   ],
   "source": [
    "%%writefile ../models/app.py\n",
    "from fastapi import FastAPI\n",
    "import joblib\n",
    "import pandas as pd\n",
    "\n",
    "app = FastAPI()\n",
    "model = joblib.load(\"bike_model.pkl\")\n",
    "\n",
    "@app.post(\"/predict\")\n",
    "def predict(features: dict):\n",
    "    df = pd.DataFrame([features])\n",
    "    prediction = model.predict(df)[0]\n",
    "    return {\"prediction\": prediction}"
   ]
  },
  {
   "cell_type": "markdown",
   "id": "afe0a6b2",
   "metadata": {},
   "source": [
    "## 📦 Step 3: Containerize with Docker\n",
    "Create a Dockerfile for the FastAPI app."
   ]
  },
  {
   "cell_type": "code",
   "execution_count": 4,
   "id": "f1e5c720",
   "metadata": {
    "tags": []
   },
   "outputs": [
    {
     "name": "stdout",
     "output_type": "stream",
     "text": [
      "Writing ../models/Dockerfile\n"
     ]
    }
   ],
   "source": [
    "%%writefile ../models/Cntainerfile\n",
    "FROM python:3.9-slim\n",
    "WORKDIR /app\n",
    "COPY bike_model.pkl app.py ./\n",
    "RUN pip install fastapi[all] joblib pandas\n",
    "CMD [\"uvicorn\", \"app:app\", \"--host\", \"0.0.0.0\", \"--port\", \"8000\"]"
   ]
  },
  {
   "cell_type": "markdown",
   "id": "2be79771",
   "metadata": {},
   "source": [
    "## 🧱 Step 4: Build and Run Docker Container Locally"
   ]
  },
  {
   "cell_type": "code",
   "execution_count": 5,
   "id": "84ff5474",
   "metadata": {
    "tags": []
   },
   "outputs": [
    {
     "name": "stdout",
     "output_type": "stream",
     "text": [
      "/usr/bin/sh: line 1: docker: command not found\n",
      "/usr/bin/sh: line 1: docker: command not found\n"
     ]
    }
   ],
   "source": [
    "!docker build -t bike-api ../models\n",
    "!docker run -d -p 8000:8000 --name bike-api bike-api"
   ]
  },
  {
   "cell_type": "markdown",
   "id": "fd58f6a7",
   "metadata": {},
   "source": [
    "## ☸️ Step 5: Deploy to Kubernetes\n",
    "Create a Kubernetes deployment and service manifest."
   ]
  },
  {
   "cell_type": "code",
   "execution_count": null,
   "id": "5a919df8",
   "metadata": {},
   "outputs": [],
   "source": [
    "%%writefile ../models/k8s_deployment.yaml\n",
    "apiVersion: apps/v1\n",
    "kind: Deployment\n",
    "metadata:\n",
    "  name: bike-api\n",
    "spec:\n",
    "  replicas: 1\n",
    "  selector:\n",
    "    matchLabels:\n",
    "      app: bike-api\n",
    "  template:\n",
    "    metadata:\n",
    "      labels:\n",
    "        app: bike-api\n",
    "    spec:\n",
    "      containers:\n",
    "      - name: bike-api\n",
    "        image: bike-api:latest\n",
    "        ports:\n",
    "        - containerPort: 8000\n",
    "---\n",
    "apiVersion: v1\n",
    "kind: Service\n",
    "metadata:\n",
    "  name: bike-api-service\n",
    "spec:\n",
    "  selector:\n",
    "    app: bike-api\n",
    "  ports:\n",
    "    - protocol: TCP\n",
    "      port: 80\n",
    "      targetPort: 8000\n",
    "  type: NodePort"
   ]
  },
  {
   "cell_type": "markdown",
   "id": "c513d6a5",
   "metadata": {},
   "source": [
    "## 🚀 Step 6: Deploy to Kubernetes"
   ]
  },
  {
   "cell_type": "code",
   "execution_count": null,
   "id": "88f48694",
   "metadata": {},
   "outputs": [],
   "source": [
    "!kubectl apply -f ../models/k8s_deployment.yaml"
   ]
  },
  {
   "cell_type": "markdown",
   "id": "a15da4c9",
   "metadata": {},
   "source": [
    "## 🧪 Step 7: Test the API Endpoint"
   ]
  },
  {
   "cell_type": "code",
   "execution_count": null,
   "id": "e3b1db63",
   "metadata": {},
   "outputs": [],
   "source": [
    "# Replace <NodePort> with the actual exposed port\n",
    "!curl -X POST \"http://localhost:<NodePort>/predict\" -H \"Content-Type: application/json\" -d '{\"temp\": 25, \"hum\": 0.8, \"windspeed\": 0.1}'"
   ]
  },
  {
   "cell_type": "markdown",
   "id": "444ee4dd",
   "metadata": {},
   "source": [
    "## ✅ Summary\n",
    "- Exported the trained model\n",
    "- Built a FastAPI service for prediction\n",
    "- Containerized the API using Docker\n",
    "- Deployed the container to Kubernetes\n",
    "- Exposed and tested the endpoint"
   ]
  }
 ],
 "metadata": {
  "kernelspec": {
   "display_name": "Python 3.9",
   "language": "python",
   "name": "python3"
  },
  "language_info": {
   "codemirror_mode": {
    "name": "ipython",
    "version": 3
   },
   "file_extension": ".py",
   "mimetype": "text/x-python",
   "name": "python",
   "nbconvert_exporter": "python",
   "pygments_lexer": "ipython3",
   "version": "3.9.16"
  }
 },
 "nbformat": 4,
 "nbformat_minor": 5
}
