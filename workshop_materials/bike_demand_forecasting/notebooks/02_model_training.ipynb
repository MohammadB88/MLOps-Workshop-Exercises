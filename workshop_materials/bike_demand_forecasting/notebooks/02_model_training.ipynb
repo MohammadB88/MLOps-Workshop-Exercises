{
 "cells": [
  {
   "cell_type": "markdown",
   "id": "37eee9c7",
   "metadata": {},
   "source": [
    "# 🚀 Module 2: Model Training and Experiment Tracking\n",
    "\n",
    "In this module, we will:\n",
    "1. Train a machine learning model on the processed dataset\n",
    "2. Evaluate the model's performance\n",
    "3. Track experiments and parameters using **MLflow**\n",
    "4. (Optional) Register the trained model in the MLflow Model Registry\n",
    "\n",
    "Make sure MLflow is installed in your environment:\n",
    "```bash\n",
    "pip install mlflow\n",
    "```"
   ]
  },
  {
   "cell_type": "markdown",
   "id": "35439110",
   "metadata": {},
   "source": [
    "## 📥 Load the Processed Dataset"
   ]
  },
  {
   "cell_type": "code",
   "execution_count": 1,
   "id": "e988dcbd",
   "metadata": {
    "tags": []
   },
   "outputs": [
    {
     "data": {
      "text/html": [
       "<div>\n",
       "<style scoped>\n",
       "    .dataframe tbody tr th:only-of-type {\n",
       "        vertical-align: middle;\n",
       "    }\n",
       "\n",
       "    .dataframe tbody tr th {\n",
       "        vertical-align: top;\n",
       "    }\n",
       "\n",
       "    .dataframe thead th {\n",
       "        text-align: right;\n",
       "    }\n",
       "</style>\n",
       "<table border=\"1\" class=\"dataframe\">\n",
       "  <thead>\n",
       "    <tr style=\"text-align: right;\">\n",
       "      <th></th>\n",
       "      <th>instant</th>\n",
       "      <th>dteday</th>\n",
       "      <th>season</th>\n",
       "      <th>year</th>\n",
       "      <th>month</th>\n",
       "      <th>hour</th>\n",
       "      <th>holiday</th>\n",
       "      <th>weekday</th>\n",
       "      <th>workingday</th>\n",
       "      <th>weathersit</th>\n",
       "      <th>temp</th>\n",
       "      <th>atemp</th>\n",
       "      <th>humidity</th>\n",
       "      <th>windspeed</th>\n",
       "      <th>casual</th>\n",
       "      <th>registered</th>\n",
       "      <th>count</th>\n",
       "    </tr>\n",
       "  </thead>\n",
       "  <tbody>\n",
       "    <tr>\n",
       "      <th>0</th>\n",
       "      <td>1</td>\n",
       "      <td>2011-01-01</td>\n",
       "      <td>1</td>\n",
       "      <td>0</td>\n",
       "      <td>1</td>\n",
       "      <td>0</td>\n",
       "      <td>0</td>\n",
       "      <td>6</td>\n",
       "      <td>0</td>\n",
       "      <td>1</td>\n",
       "      <td>0.24</td>\n",
       "      <td>0.2879</td>\n",
       "      <td>0.81</td>\n",
       "      <td>0.0</td>\n",
       "      <td>3</td>\n",
       "      <td>13</td>\n",
       "      <td>16</td>\n",
       "    </tr>\n",
       "    <tr>\n",
       "      <th>1</th>\n",
       "      <td>2</td>\n",
       "      <td>2011-01-01</td>\n",
       "      <td>1</td>\n",
       "      <td>0</td>\n",
       "      <td>1</td>\n",
       "      <td>1</td>\n",
       "      <td>0</td>\n",
       "      <td>6</td>\n",
       "      <td>0</td>\n",
       "      <td>1</td>\n",
       "      <td>0.22</td>\n",
       "      <td>0.2727</td>\n",
       "      <td>0.80</td>\n",
       "      <td>0.0</td>\n",
       "      <td>8</td>\n",
       "      <td>32</td>\n",
       "      <td>40</td>\n",
       "    </tr>\n",
       "    <tr>\n",
       "      <th>2</th>\n",
       "      <td>3</td>\n",
       "      <td>2011-01-01</td>\n",
       "      <td>1</td>\n",
       "      <td>0</td>\n",
       "      <td>1</td>\n",
       "      <td>2</td>\n",
       "      <td>0</td>\n",
       "      <td>6</td>\n",
       "      <td>0</td>\n",
       "      <td>1</td>\n",
       "      <td>0.22</td>\n",
       "      <td>0.2727</td>\n",
       "      <td>0.80</td>\n",
       "      <td>0.0</td>\n",
       "      <td>5</td>\n",
       "      <td>27</td>\n",
       "      <td>32</td>\n",
       "    </tr>\n",
       "    <tr>\n",
       "      <th>3</th>\n",
       "      <td>4</td>\n",
       "      <td>2011-01-01</td>\n",
       "      <td>1</td>\n",
       "      <td>0</td>\n",
       "      <td>1</td>\n",
       "      <td>3</td>\n",
       "      <td>0</td>\n",
       "      <td>6</td>\n",
       "      <td>0</td>\n",
       "      <td>1</td>\n",
       "      <td>0.24</td>\n",
       "      <td>0.2879</td>\n",
       "      <td>0.75</td>\n",
       "      <td>0.0</td>\n",
       "      <td>3</td>\n",
       "      <td>10</td>\n",
       "      <td>13</td>\n",
       "    </tr>\n",
       "    <tr>\n",
       "      <th>4</th>\n",
       "      <td>5</td>\n",
       "      <td>2011-01-01</td>\n",
       "      <td>1</td>\n",
       "      <td>0</td>\n",
       "      <td>1</td>\n",
       "      <td>4</td>\n",
       "      <td>0</td>\n",
       "      <td>6</td>\n",
       "      <td>0</td>\n",
       "      <td>1</td>\n",
       "      <td>0.24</td>\n",
       "      <td>0.2879</td>\n",
       "      <td>0.75</td>\n",
       "      <td>0.0</td>\n",
       "      <td>0</td>\n",
       "      <td>1</td>\n",
       "      <td>1</td>\n",
       "    </tr>\n",
       "  </tbody>\n",
       "</table>\n",
       "</div>"
      ],
      "text/plain": [
       "   instant      dteday  season  year  month  hour  holiday  weekday  \\\n",
       "0        1  2011-01-01       1     0      1     0        0        6   \n",
       "1        2  2011-01-01       1     0      1     1        0        6   \n",
       "2        3  2011-01-01       1     0      1     2        0        6   \n",
       "3        4  2011-01-01       1     0      1     3        0        6   \n",
       "4        5  2011-01-01       1     0      1     4        0        6   \n",
       "\n",
       "   workingday  weathersit  temp   atemp  humidity  windspeed  casual  \\\n",
       "0           0           1  0.24  0.2879      0.81        0.0       3   \n",
       "1           0           1  0.22  0.2727      0.80        0.0       8   \n",
       "2           0           1  0.22  0.2727      0.80        0.0       5   \n",
       "3           0           1  0.24  0.2879      0.75        0.0       3   \n",
       "4           0           1  0.24  0.2879      0.75        0.0       0   \n",
       "\n",
       "   registered  count  \n",
       "0          13     16  \n",
       "1          32     40  \n",
       "2          27     32  \n",
       "3          10     13  \n",
       "4           1      1  "
      ]
     },
     "execution_count": 1,
     "metadata": {},
     "output_type": "execute_result"
    }
   ],
   "source": [
    "import pandas as pd\n",
    "import os\n",
    "\n",
    "data_path = \"../data/processed/hour_processed.csv\"\n",
    "df = pd.read_csv(data_path)\n",
    "df.head()"
   ]
  },
  {
   "cell_type": "markdown",
   "id": "dcaee1b1",
   "metadata": {},
   "source": [
    "## ✂️ Prepare Features and Target Variable"
   ]
  },
  {
   "cell_type": "code",
   "execution_count": 2,
   "id": "c674aafc",
   "metadata": {
    "tags": []
   },
   "outputs": [],
   "source": [
    "from sklearn.model_selection import train_test_split\n",
    "\n",
    "# Define features and target\n",
    "X = df.drop(columns=[\"count\", \"dteday\"])\n",
    "y = df[\"count\"]\n",
    "\n",
    "# Train-test split\n",
    "X_train, X_test, y_train, y_test = train_test_split(X, y, test_size=0.2, random_state=42)"
   ]
  },
  {
   "cell_type": "markdown",
   "id": "90e7fafe",
   "metadata": {},
   "source": [
    "## 🤖 Train a Regression Model"
   ]
  },
  {
   "cell_type": "code",
   "execution_count": 3,
   "id": "faa048e3",
   "metadata": {
    "tags": []
   },
   "outputs": [],
   "source": [
    "from sklearn.ensemble import RandomForestRegressor\n",
    "from sklearn.metrics import mean_squared_error, r2_score\n",
    "\n",
    "# Define and train model\n",
    "model = RandomForestRegressor(n_estimators=100, random_state=42)\n",
    "model.fit(X_train, y_train)\n",
    "\n",
    "# Predict on test set\n",
    "y_pred = model.predict(X_test)"
   ]
  },
  {
   "cell_type": "markdown",
   "id": "30107e98",
   "metadata": {},
   "source": [
    "## 📊 Evaluate Model Performance"
   ]
  },
  {
   "cell_type": "code",
   "execution_count": 4,
   "id": "9d78b1f7",
   "metadata": {
    "tags": []
   },
   "outputs": [
    {
     "name": "stdout",
     "output_type": "stream",
     "text": [
      "RMSE: 2.76\n",
      "R² Score: 1.00\n"
     ]
    }
   ],
   "source": [
    "import numpy as np\n",
    "\n",
    "rmse = np.sqrt(mean_squared_error(y_test, y_pred))\n",
    "r2 = r2_score(y_test, y_pred)\n",
    "\n",
    "print(f\"RMSE: {rmse:.2f}\")\n",
    "print(f\"R² Score: {r2:.2f}\")"
   ]
  },
  {
   "cell_type": "markdown",
   "id": "fe8e1d27",
   "metadata": {},
   "source": [
    "## 📝 Track Experiments with MLflow"
   ]
  },
  {
   "cell_type": "code",
   "execution_count": 8,
   "id": "928dd8b8",
   "metadata": {
    "tags": []
   },
   "outputs": [
    {
     "name": "stdin",
     "output_type": "stream",
     "text": [
      "Enter a run number for this experiment:  50\n"
     ]
    },
    {
     "name": "stdout",
     "output_type": "stream",
     "text": [
      "Generated MLflow run name: random_forest_baseline_50\n"
     ]
    },
    {
     "name": "stderr",
     "output_type": "stream",
     "text": [
      "\u001b[31m2025/05/08 06:13:04 WARNING mlflow.models.model: Model logged without a signature and input example. Please set `input_example` parameter when logging the model to auto infer the model signature.\u001b[0m\n"
     ]
    },
    {
     "name": "stdout",
     "output_type": "stream",
     "text": [
      "Model and metrics logged to MLflow.\n",
      "🏃 View run random_forest_baseline_50 at: http://localhost:5000/#/experiments/120047244423298152/runs/348b1d7a4db24bf19e5b48c074ae6bad\n",
      "🧪 View experiment at: http://localhost:5000/#/experiments/120047244423298152\n"
     ]
    }
   ],
   "source": [
    "import mlflow\n",
    "import mlflow.sklearn\n",
    "\n",
    "# Ask user for a number to customize the run name\n",
    "run_number = input(\"Enter a run number for this experiment (Remember! It should be a new number each!): \")\n",
    "run_name = f\"random_forest_baseline_{run_number}\"\n",
    "print(f\"Generated MLflow run name: {run_name}\")\n",
    "\n",
    "mlflow.set_tracking_uri(\"http://localhost:5000\")\n",
    "mlflow.set_experiment(\"bike_sharing_model\")\n",
    "\n",
    "with mlflow.start_run(run_name=run_name):\n",
    "    mlflow.log_param(\"model_type\", \"RandomForest\")\n",
    "    mlflow.log_param(\"n_estimators\", 100)\n",
    "\n",
    "    mlflow.log_metric(\"rmse\", rmse)\n",
    "    mlflow.log_metric(\"r2\", r2)\n",
    "\n",
    "    mlflow.sklearn.log_model(model, \"model\")\n",
    "    print(\"Model and metrics logged to MLflow.\")"
   ]
  },
  {
   "cell_type": "code",
   "execution_count": 9,
   "id": "acf3c3de-877f-46c0-ac5d-d2dc2e7292ae",
   "metadata": {
    "tags": []
   },
   "outputs": [
    {
     "data": {
      "text/html": [
       "<div>\n",
       "<style scoped>\n",
       "    .dataframe tbody tr th:only-of-type {\n",
       "        vertical-align: middle;\n",
       "    }\n",
       "\n",
       "    .dataframe tbody tr th {\n",
       "        vertical-align: top;\n",
       "    }\n",
       "\n",
       "    .dataframe thead th {\n",
       "        text-align: right;\n",
       "    }\n",
       "</style>\n",
       "<table border=\"1\" class=\"dataframe\">\n",
       "  <thead>\n",
       "    <tr style=\"text-align: right;\">\n",
       "      <th></th>\n",
       "      <th>Run ID</th>\n",
       "      <th>Run Name</th>\n",
       "      <th>RMSE</th>\n",
       "      <th>R2</th>\n",
       "      <th>Date</th>\n",
       "    </tr>\n",
       "  </thead>\n",
       "  <tbody>\n",
       "    <tr>\n",
       "      <th>0</th>\n",
       "      <td>348b1d7a4db24bf19e5b48c074ae6bad</td>\n",
       "      <td>random_forest_baseline_50</td>\n",
       "      <td>2.763474</td>\n",
       "      <td>0.999759</td>\n",
       "      <td>1746684781029</td>\n",
       "    </tr>\n",
       "    <tr>\n",
       "      <th>1</th>\n",
       "      <td>bd324dc36d764539aae2d7e5226fd5e9</td>\n",
       "      <td>random_forest_baseline_20</td>\n",
       "      <td>2.763474</td>\n",
       "      <td>0.999759</td>\n",
       "      <td>1746684752364</td>\n",
       "    </tr>\n",
       "    <tr>\n",
       "      <th>2</th>\n",
       "      <td>9e9aa0888ca24e29b30d183f532db3c5</td>\n",
       "      <td>mysterious-crane-350</td>\n",
       "      <td>2.763474</td>\n",
       "      <td>0.999759</td>\n",
       "      <td>1746684297325</td>\n",
       "    </tr>\n",
       "  </tbody>\n",
       "</table>\n",
       "</div>"
      ],
      "text/plain": [
       "                             Run ID                   Run Name      RMSE  \\\n",
       "0  348b1d7a4db24bf19e5b48c074ae6bad  random_forest_baseline_50  2.763474   \n",
       "1  bd324dc36d764539aae2d7e5226fd5e9  random_forest_baseline_20  2.763474   \n",
       "2  9e9aa0888ca24e29b30d183f532db3c5       mysterious-crane-350  2.763474   \n",
       "\n",
       "         R2           Date  \n",
       "0  0.999759  1746684781029  \n",
       "1  0.999759  1746684752364  \n",
       "2  0.999759  1746684297325  "
      ]
     },
     "execution_count": 9,
     "metadata": {},
     "output_type": "execute_result"
    }
   ],
   "source": [
    "import mlflow\n",
    "\n",
    "# Get the experiment by name\n",
    "experiment = mlflow.get_experiment_by_name(\"bike_sharing_model\")\n",
    "\n",
    "# Load all runs from the experiment\n",
    "client = mlflow.tracking.MlflowClient()\n",
    "runs = client.search_runs(experiment_ids=[experiment.experiment_id])\n",
    "\n",
    "# Display runs in a DataFrame\n",
    "import pandas as pd\n",
    "\n",
    "df_runs = pd.DataFrame([{\n",
    "    \"Run ID\": run.info.run_id,\n",
    "    \"Run Name\": run.data.tags.get(\"mlflow.runName\"),\n",
    "    \"RMSE\": run.data.metrics.get(\"rmse\"),\n",
    "    \"R2\": run.data.metrics.get(\"r2\"),\n",
    "    \"Date\": run.info.start_time\n",
    "} for run in runs])\n",
    "\n",
    "df_runs.sort_values(\"Date\", ascending=False).reset_index(drop=True)"
   ]
  },
  {
   "cell_type": "markdown",
   "id": "c067e806",
   "metadata": {},
   "source": [
    "## 🗃️ (Optional) Register the Model in MLflow"
   ]
  },
  {
   "cell_type": "code",
   "execution_count": 10,
   "id": "0914eecd",
   "metadata": {
    "tags": []
   },
   "outputs": [
    {
     "name": "stdout",
     "output_type": "stream",
     "text": [
      "Available run names:\n",
      "- random_forest_baseline_50\n",
      "- random_forest_baseline_20\n",
      "- mysterious-crane-350\n"
     ]
    },
    {
     "name": "stdin",
     "output_type": "stream",
     "text": [
      "Enter the run name to register its model:  random_forest_baseline_20\n"
     ]
    },
    {
     "name": "stderr",
     "output_type": "stream",
     "text": [
      "Successfully registered model 'BikeSharingModel'.\n",
      "2025/05/08 06:17:16 INFO mlflow.store.model_registry.abstract_store: Waiting up to 300 seconds for model version to finish creation. Model name: BikeSharingModel, version 1\n"
     ]
    },
    {
     "name": "stdout",
     "output_type": "stream",
     "text": [
      "Model registered: BikeSharingModel v1\n"
     ]
    },
    {
     "name": "stderr",
     "output_type": "stream",
     "text": [
      "Created version '1' of model 'BikeSharingModel'.\n"
     ]
    }
   ],
   "source": [
    "import mlflow\n",
    "from mlflow.tracking import MlflowClient\n",
    "\n",
    "# Set up MLflow client and experiment\n",
    "client = MlflowClient()\n",
    "experiment = mlflow.get_experiment_by_name(\"bike_sharing_model\")\n",
    "runs = client.search_runs(experiment_ids=[experiment.experiment_id])\n",
    "\n",
    "# Show available run names\n",
    "run_names = [run.data.tags.get(\"mlflow.runName\") for run in runs]\n",
    "print(\"Available run names:\")\n",
    "for name in run_names:\n",
    "    print(\"-\", name)\n",
    "\n",
    "# Ask user to select a run name\n",
    "selected_name = input(\"Enter the run name to register its model: \")\n",
    "\n",
    "# Find the corresponding run ID\n",
    "selected_run = next(run for run in runs if run.data.tags.get(\"mlflow.runName\") == selected_name)\n",
    "run_id = selected_run.info.run_id\n",
    "\n",
    "# Register the model from the selected run\n",
    "model_uri = f\"runs:/{run_id}/model\"\n",
    "result = mlflow.register_model(model_uri, \"BikeSharingModel\")\n",
    "\n",
    "print(f\"Model registered: {result.name} v{result.version}\")"
   ]
  },
  {
   "cell_type": "markdown",
   "id": "d4963d17",
   "metadata": {},
   "source": [
    "## ✅ Summary\n",
    "- Trained and evaluated a regression model.\n",
    "- Tracked parameters, metrics, and artifacts with MLflow.\n",
    "- Optionally registered the model.\n",
    "\n",
    "Next, we will package and deploy the model on Kubernetes!"
   ]
  }
 ],
 "metadata": {
  "kernelspec": {
   "display_name": "Python 3.9",
   "language": "python",
   "name": "python3"
  },
  "language_info": {
   "codemirror_mode": {
    "name": "ipython",
    "version": 3
   },
   "file_extension": ".py",
   "mimetype": "text/x-python",
   "name": "python",
   "nbconvert_exporter": "python",
   "pygments_lexer": "ipython3",
   "version": "3.9.16"
  }
 },
 "nbformat": 4,
 "nbformat_minor": 5
}
