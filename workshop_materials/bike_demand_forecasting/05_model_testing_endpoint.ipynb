{
 "cells": [
  {
   "cell_type": "markdown",
   "id": "0c71bd30",
   "metadata": {},
   "source": [
    "# 🚀 Module 3: Model Packaging and Deployment on Kubernetes\n",
    "\n",
    "In this module, we will:\n",
    "1. Build a REST API for model inference using FastAPI\n",
    "2. Create a Containerfile to containerize the service\n",
    "3. Deploy the container to a Kubernetes cluster (i.e. OpenShift)\n",
    "4. Load a Test Dataset\n",
    "5. Test the Model-API"
   ]
  },
  {
   "cell_type": "markdown",
   "id": "1a242d9e-a420-4720-abd0-ca0167a6d646",
   "metadata": {},
   "source": [
    "Make sure MLflow is installed in your environment:\n",
    "\n",
    "```bash\n",
    "pip install mlflow\n",
    "```"
   ]
  },
  {
   "cell_type": "code",
   "execution_count": 2,
   "id": "596bb018-bb0a-467b-8fcf-ac7dd677ef6f",
   "metadata": {
    "collapsed": true,
    "jupyter": {
     "outputs_hidden": true
    }
   },
   "outputs": [
    {
     "name": "stdout",
     "output_type": "stream",
     "text": [
      "Requirement already satisfied: requests in /opt/app-root/lib64/python3.11/site-packages (from -r requirements.txt (line 1)) (2.32.3)\n",
      "Collecting seaborn (from -r requirements.txt (line 2))\n",
      "  Downloading seaborn-0.13.2-py3-none-any.whl.metadata (5.4 kB)\n",
      "Collecting evidently==0.6.7 (from -r requirements.txt (line 3))\n",
      "  Downloading evidently-0.6.7-py3-none-any.whl.metadata (11 kB)\n",
      "Collecting mlflow (from -r requirements.txt (line 4))\n",
      "  Downloading mlflow-2.22.1-py3-none-any.whl.metadata (30 kB)\n",
      "Collecting plotly<6,>=5.10.0 (from evidently==0.6.7->-r requirements.txt (line 3))\n",
      "  Downloading plotly-5.24.1-py3-none-any.whl.metadata (7.3 kB)\n",
      "Collecting statsmodels>=0.12.2 (from evidently==0.6.7->-r requirements.txt (line 3))\n",
      "  Downloading statsmodels-0.14.4-cp311-cp311-manylinux_2_17_x86_64.manylinux2014_x86_64.whl.metadata (9.2 kB)\n",
      "Requirement already satisfied: scikit-learn>=1.0.1 in /opt/app-root/lib64/python3.11/site-packages (from evidently==0.6.7->-r requirements.txt (line 3)) (1.6.1)\n",
      "Requirement already satisfied: pandas>=1.3.5 in /opt/app-root/lib64/python3.11/site-packages (from pandas[parquet]>=1.3.5->evidently==0.6.7->-r requirements.txt (line 3)) (2.2.3)\n",
      "Collecting numpy<2.1,>=1.22.0 (from evidently==0.6.7->-r requirements.txt (line 3))\n",
      "  Downloading numpy-2.0.2-cp311-cp311-manylinux_2_17_x86_64.manylinux2014_x86_64.whl.metadata (60 kB)\n",
      "Collecting nltk>=3.6.7 (from evidently==0.6.7->-r requirements.txt (line 3))\n",
      "  Downloading nltk-3.9.1-py3-none-any.whl.metadata (2.9 kB)\n",
      "Requirement already satisfied: scipy>=1.10.0 in /opt/app-root/lib64/python3.11/site-packages (from evidently==0.6.7->-r requirements.txt (line 3)) (1.15.2)\n",
      "Requirement already satisfied: PyYAML>=5.4 in /opt/app-root/lib64/python3.11/site-packages (from evidently==0.6.7->-r requirements.txt (line 3)) (6.0.2)\n",
      "Requirement already satisfied: pydantic>=1.10.16 in /opt/app-root/lib64/python3.11/site-packages (from evidently==0.6.7->-r requirements.txt (line 3)) (1.10.21)\n",
      "Collecting litestar>=2.8.3 (from evidently==0.6.7->-r requirements.txt (line 3))\n",
      "  Downloading litestar-2.16.0-py3-none-any.whl.metadata (110 kB)\n",
      "Collecting typing-inspect>=0.9.0 (from evidently==0.6.7->-r requirements.txt (line 3))\n",
      "  Downloading typing_inspect-0.9.0-py3-none-any.whl.metadata (1.5 kB)\n",
      "Collecting uvicorn>=0.22.0 (from uvicorn[standard]>=0.22.0->evidently==0.6.7->-r requirements.txt (line 3))\n",
      "  Downloading uvicorn-0.34.3-py3-none-any.whl.metadata (6.5 kB)\n",
      "Requirement already satisfied: watchdog>=3.0.0 in /opt/app-root/lib64/python3.11/site-packages (from evidently==0.6.7->-r requirements.txt (line 3)) (6.0.0)\n",
      "Collecting typer>=0.3 (from evidently==0.6.7->-r requirements.txt (line 3))\n",
      "  Downloading typer-0.16.0-py3-none-any.whl.metadata (15 kB)\n",
      "Requirement already satisfied: rich>=13 in /opt/app-root/lib64/python3.11/site-packages (from evidently==0.6.7->-r requirements.txt (line 3)) (13.9.4)\n",
      "Collecting iterative-telemetry>=0.0.5 (from evidently==0.6.7->-r requirements.txt (line 3))\n",
      "  Downloading iterative_telemetry-0.0.10-py3-none-any.whl.metadata (4.1 kB)\n",
      "Collecting dynaconf>=3.2.4 (from evidently==0.6.7->-r requirements.txt (line 3))\n",
      "  Downloading dynaconf-3.2.11-py2.py3-none-any.whl.metadata (9.2 kB)\n",
      "Requirement already satisfied: certifi>=2024.7.4 in /opt/app-root/lib64/python3.11/site-packages (from evidently==0.6.7->-r requirements.txt (line 3)) (2025.1.31)\n",
      "Requirement already satisfied: urllib3>=1.26.19 in /opt/app-root/lib64/python3.11/site-packages (from evidently==0.6.7->-r requirements.txt (line 3)) (1.26.20)\n",
      "Requirement already satisfied: fsspec>=2024.6.1 in /opt/app-root/lib64/python3.11/site-packages (from evidently==0.6.7->-r requirements.txt (line 3)) (2025.3.0)\n",
      "Requirement already satisfied: ujson>=5.4.0 in /opt/app-root/lib64/python3.11/site-packages (from evidently==0.6.7->-r requirements.txt (line 3)) (5.10.0)\n",
      "Requirement already satisfied: deprecation>=2.1.0 in /opt/app-root/lib64/python3.11/site-packages (from evidently==0.6.7->-r requirements.txt (line 3)) (2.1.0)\n",
      "Collecting uuid6>=2024.7.10 (from evidently==0.6.7->-r requirements.txt (line 3))\n",
      "  Downloading uuid6-2024.7.10-py3-none-any.whl.metadata (8.6 kB)\n",
      "Requirement already satisfied: cryptography>=43.0.1 in /opt/app-root/lib64/python3.11/site-packages (from evidently==0.6.7->-r requirements.txt (line 3)) (43.0.3)\n",
      "Requirement already satisfied: charset-normalizer<4,>=2 in /opt/app-root/lib64/python3.11/site-packages (from requests->-r requirements.txt (line 1)) (3.4.1)\n",
      "Requirement already satisfied: idna<4,>=2.5 in /opt/app-root/lib64/python3.11/site-packages (from requests->-r requirements.txt (line 1)) (3.10)\n",
      "Requirement already satisfied: matplotlib!=3.6.1,>=3.4 in /opt/app-root/lib64/python3.11/site-packages (from seaborn->-r requirements.txt (line 2)) (3.10.1)\n",
      "Collecting mlflow-skinny==2.22.1 (from mlflow->-r requirements.txt (line 4))\n",
      "  Downloading mlflow_skinny-2.22.1-py3-none-any.whl.metadata (31 kB)\n",
      "Collecting Flask<4 (from mlflow->-r requirements.txt (line 4))\n",
      "  Downloading flask-3.1.1-py3-none-any.whl.metadata (3.0 kB)\n",
      "Requirement already satisfied: Jinja2<4,>=2.11 in /opt/app-root/lib64/python3.11/site-packages (from mlflow->-r requirements.txt (line 4)) (3.1.6)\n",
      "Collecting alembic!=1.10.0,<2 (from mlflow->-r requirements.txt (line 4))\n",
      "  Downloading alembic-1.16.1-py3-none-any.whl.metadata (7.3 kB)\n",
      "Collecting docker<8,>=4.0.0 (from mlflow->-r requirements.txt (line 4))\n",
      "  Downloading docker-7.1.0-py3-none-any.whl.metadata (3.8 kB)\n",
      "Collecting graphene<4 (from mlflow->-r requirements.txt (line 4))\n",
      "  Downloading graphene-3.4.3-py2.py3-none-any.whl.metadata (6.9 kB)\n",
      "Collecting gunicorn<24 (from mlflow->-r requirements.txt (line 4))\n",
      "  Downloading gunicorn-23.0.0-py3-none-any.whl.metadata (4.4 kB)\n",
      "Collecting markdown<4,>=3.3 (from mlflow->-r requirements.txt (line 4))\n",
      "  Downloading markdown-3.8-py3-none-any.whl.metadata (5.1 kB)\n",
      "Requirement already satisfied: pyarrow<20,>=4.0.0 in /opt/app-root/lib64/python3.11/site-packages (from mlflow->-r requirements.txt (line 4)) (19.0.1)\n",
      "Collecting sqlalchemy<3,>=1.4.0 (from mlflow->-r requirements.txt (line 4))\n",
      "  Downloading sqlalchemy-2.0.41-cp311-cp311-manylinux_2_17_x86_64.manylinux2014_x86_64.whl.metadata (9.6 kB)\n",
      "Requirement already satisfied: cachetools<6,>=5.0.0 in /opt/app-root/lib64/python3.11/site-packages (from mlflow-skinny==2.22.1->mlflow->-r requirements.txt (line 4)) (5.5.2)\n",
      "Requirement already satisfied: click<9,>=7.0 in /opt/app-root/lib64/python3.11/site-packages (from mlflow-skinny==2.22.1->mlflow->-r requirements.txt (line 4)) (8.1.8)\n",
      "Collecting cloudpickle<4 (from mlflow-skinny==2.22.1->mlflow->-r requirements.txt (line 4))\n",
      "  Downloading cloudpickle-3.1.1-py3-none-any.whl.metadata (7.1 kB)\n",
      "Collecting databricks-sdk<1,>=0.20.0 (from mlflow-skinny==2.22.1->mlflow->-r requirements.txt (line 4))\n",
      "  Downloading databricks_sdk-0.56.0-py3-none-any.whl.metadata (39 kB)\n",
      "Collecting fastapi<1 (from mlflow-skinny==2.22.1->mlflow->-r requirements.txt (line 4))\n",
      "  Downloading fastapi-0.115.12-py3-none-any.whl.metadata (27 kB)\n",
      "Requirement already satisfied: gitpython<4,>=3.1.9 in /opt/app-root/lib64/python3.11/site-packages (from mlflow-skinny==2.22.1->mlflow->-r requirements.txt (line 4)) (3.1.44)\n",
      "Collecting importlib_metadata!=4.7.0,<9,>=3.7.0 (from mlflow-skinny==2.22.1->mlflow->-r requirements.txt (line 4))\n",
      "  Downloading importlib_metadata-8.7.0-py3-none-any.whl.metadata (4.8 kB)\n",
      "Collecting opentelemetry-api<3,>=1.9.0 (from mlflow-skinny==2.22.1->mlflow->-r requirements.txt (line 4))\n",
      "  Downloading opentelemetry_api-1.34.0-py3-none-any.whl.metadata (1.5 kB)\n",
      "Collecting opentelemetry-sdk<3,>=1.9.0 (from mlflow-skinny==2.22.1->mlflow->-r requirements.txt (line 4))\n",
      "  Downloading opentelemetry_sdk-1.34.0-py3-none-any.whl.metadata (1.6 kB)\n",
      "Requirement already satisfied: packaging<25 in /opt/app-root/lib64/python3.11/site-packages (from mlflow-skinny==2.22.1->mlflow->-r requirements.txt (line 4)) (24.2)\n",
      "Requirement already satisfied: protobuf<7,>=3.12.0 in /opt/app-root/lib64/python3.11/site-packages (from mlflow-skinny==2.22.1->mlflow->-r requirements.txt (line 4)) (4.25.6)\n",
      "Collecting sqlparse<1,>=0.4.0 (from mlflow-skinny==2.22.1->mlflow->-r requirements.txt (line 4))\n",
      "  Downloading sqlparse-0.5.3-py3-none-any.whl.metadata (3.9 kB)\n",
      "Requirement already satisfied: typing-extensions<5,>=4.0.0 in /opt/app-root/lib64/python3.11/site-packages (from mlflow-skinny==2.22.1->mlflow->-r requirements.txt (line 4)) (4.12.2)\n",
      "Collecting Mako (from alembic!=1.10.0,<2->mlflow->-r requirements.txt (line 4))\n",
      "  Downloading mako-1.3.10-py3-none-any.whl.metadata (2.9 kB)\n",
      "Requirement already satisfied: cffi>=1.12 in /opt/app-root/lib64/python3.11/site-packages (from cryptography>=43.0.1->evidently==0.6.7->-r requirements.txt (line 3)) (1.17.1)\n",
      "Collecting blinker>=1.9.0 (from Flask<4->mlflow->-r requirements.txt (line 4))\n",
      "  Downloading blinker-1.9.0-py3-none-any.whl.metadata (1.6 kB)\n",
      "Collecting itsdangerous>=2.2.0 (from Flask<4->mlflow->-r requirements.txt (line 4))\n",
      "  Downloading itsdangerous-2.2.0-py3-none-any.whl.metadata (1.9 kB)\n",
      "Requirement already satisfied: markupsafe>=2.1.1 in /opt/app-root/lib64/python3.11/site-packages (from Flask<4->mlflow->-r requirements.txt (line 4)) (3.0.2)\n",
      "Collecting werkzeug>=3.1.0 (from Flask<4->mlflow->-r requirements.txt (line 4))\n",
      "  Downloading werkzeug-3.1.3-py3-none-any.whl.metadata (3.7 kB)\n",
      "Collecting graphql-core<3.3,>=3.1 (from graphene<4->mlflow->-r requirements.txt (line 4))\n",
      "  Downloading graphql_core-3.2.6-py3-none-any.whl.metadata (11 kB)\n",
      "Collecting graphql-relay<3.3,>=3.1 (from graphene<4->mlflow->-r requirements.txt (line 4))\n",
      "  Downloading graphql_relay-3.2.0-py3-none-any.whl.metadata (12 kB)\n",
      "Requirement already satisfied: python-dateutil<3,>=2.7.0 in /opt/app-root/lib64/python3.11/site-packages (from graphene<4->mlflow->-r requirements.txt (line 4)) (2.9.0.post0)\n",
      "Collecting appdirs (from iterative-telemetry>=0.0.5->evidently==0.6.7->-r requirements.txt (line 3))\n",
      "  Downloading appdirs-1.4.4-py2.py3-none-any.whl.metadata (9.0 kB)\n",
      "Requirement already satisfied: filelock in /opt/app-root/lib64/python3.11/site-packages (from iterative-telemetry>=0.0.5->evidently==0.6.7->-r requirements.txt (line 3)) (3.18.0)\n",
      "Collecting distro (from iterative-telemetry>=0.0.5->evidently==0.6.7->-r requirements.txt (line 3))\n",
      "  Downloading distro-1.9.0-py3-none-any.whl.metadata (6.8 kB)\n",
      "Requirement already satisfied: anyio>=3 in /opt/app-root/lib64/python3.11/site-packages (from litestar>=2.8.3->evidently==0.6.7->-r requirements.txt (line 3)) (4.9.0)\n",
      "Requirement already satisfied: httpx>=0.22 in /opt/app-root/lib64/python3.11/site-packages (from litestar>=2.8.3->evidently==0.6.7->-r requirements.txt (line 3)) (0.28.1)\n",
      "Collecting litestar-htmx>=0.4.0 (from litestar>=2.8.3->evidently==0.6.7->-r requirements.txt (line 3))\n",
      "  Downloading litestar_htmx-0.4.1-py3-none-any.whl.metadata (2.0 kB)\n",
      "Collecting msgspec>=0.18.2 (from litestar>=2.8.3->evidently==0.6.7->-r requirements.txt (line 3))\n",
      "  Downloading msgspec-0.19.0-cp311-cp311-manylinux_2_17_x86_64.manylinux2014_x86_64.whl.metadata (6.9 kB)\n",
      "Requirement already satisfied: multidict>=6.0.2 in /opt/app-root/lib64/python3.11/site-packages (from litestar>=2.8.3->evidently==0.6.7->-r requirements.txt (line 3)) (6.2.0)\n",
      "Collecting multipart>=1.2.0 (from litestar>=2.8.3->evidently==0.6.7->-r requirements.txt (line 3))\n",
      "  Downloading multipart-1.2.1-py3-none-any.whl.metadata (4.4 kB)\n",
      "Collecting polyfactory>=2.6.3 (from litestar>=2.8.3->evidently==0.6.7->-r requirements.txt (line 3))\n",
      "  Downloading polyfactory-2.21.0-py3-none-any.whl.metadata (27 kB)\n",
      "Collecting rich-click (from litestar>=2.8.3->evidently==0.6.7->-r requirements.txt (line 3))\n",
      "  Downloading rich_click-1.8.9-py3-none-any.whl.metadata (7.9 kB)\n",
      "Requirement already satisfied: contourpy>=1.0.1 in /opt/app-root/lib64/python3.11/site-packages (from matplotlib!=3.6.1,>=3.4->seaborn->-r requirements.txt (line 2)) (1.3.1)\n",
      "Requirement already satisfied: cycler>=0.10 in /opt/app-root/lib64/python3.11/site-packages (from matplotlib!=3.6.1,>=3.4->seaborn->-r requirements.txt (line 2)) (0.12.1)\n",
      "Requirement already satisfied: fonttools>=4.22.0 in /opt/app-root/lib64/python3.11/site-packages (from matplotlib!=3.6.1,>=3.4->seaborn->-r requirements.txt (line 2)) (4.56.0)\n",
      "Requirement already satisfied: kiwisolver>=1.3.1 in /opt/app-root/lib64/python3.11/site-packages (from matplotlib!=3.6.1,>=3.4->seaborn->-r requirements.txt (line 2)) (1.4.8)\n",
      "Requirement already satisfied: pillow>=8 in /opt/app-root/lib64/python3.11/site-packages (from matplotlib!=3.6.1,>=3.4->seaborn->-r requirements.txt (line 2)) (11.1.0)\n",
      "Requirement already satisfied: pyparsing>=2.3.1 in /opt/app-root/lib64/python3.11/site-packages (from matplotlib!=3.6.1,>=3.4->seaborn->-r requirements.txt (line 2)) (3.2.1)\n",
      "Requirement already satisfied: joblib in /opt/app-root/lib64/python3.11/site-packages (from nltk>=3.6.7->evidently==0.6.7->-r requirements.txt (line 3)) (1.4.2)\n",
      "Collecting regex>=2021.8.3 (from nltk>=3.6.7->evidently==0.6.7->-r requirements.txt (line 3))\n",
      "  Downloading regex-2024.11.6-cp311-cp311-manylinux_2_17_x86_64.manylinux2014_x86_64.whl.metadata (40 kB)\n",
      "Requirement already satisfied: tqdm in /opt/app-root/lib64/python3.11/site-packages (from nltk>=3.6.7->evidently==0.6.7->-r requirements.txt (line 3)) (4.67.1)\n",
      "Requirement already satisfied: pytz>=2020.1 in /opt/app-root/lib64/python3.11/site-packages (from pandas>=1.3.5->pandas[parquet]>=1.3.5->evidently==0.6.7->-r requirements.txt (line 3)) (2025.1)\n",
      "Requirement already satisfied: tzdata>=2022.7 in /opt/app-root/lib64/python3.11/site-packages (from pandas>=1.3.5->pandas[parquet]>=1.3.5->evidently==0.6.7->-r requirements.txt (line 3)) (2025.1)\n",
      "Requirement already satisfied: tenacity>=6.2.0 in /opt/app-root/lib64/python3.11/site-packages (from plotly<6,>=5.10.0->evidently==0.6.7->-r requirements.txt (line 3)) (9.0.0)\n",
      "Requirement already satisfied: markdown-it-py>=2.2.0 in /opt/app-root/lib64/python3.11/site-packages (from rich>=13->evidently==0.6.7->-r requirements.txt (line 3)) (3.0.0)\n",
      "Requirement already satisfied: pygments<3.0.0,>=2.13.0 in /opt/app-root/lib64/python3.11/site-packages (from rich>=13->evidently==0.6.7->-r requirements.txt (line 3)) (2.19.1)\n",
      "Requirement already satisfied: threadpoolctl>=3.1.0 in /opt/app-root/lib64/python3.11/site-packages (from scikit-learn>=1.0.1->evidently==0.6.7->-r requirements.txt (line 3)) (3.6.0)\n",
      "Collecting greenlet>=1 (from sqlalchemy<3,>=1.4.0->mlflow->-r requirements.txt (line 4))\n",
      "  Downloading greenlet-3.2.3-cp311-cp311-manylinux_2_24_x86_64.manylinux_2_28_x86_64.whl.metadata (4.1 kB)\n",
      "Collecting patsy>=0.5.6 (from statsmodels>=0.12.2->evidently==0.6.7->-r requirements.txt (line 3))\n",
      "  Downloading patsy-1.0.1-py2.py3-none-any.whl.metadata (3.3 kB)\n",
      "Collecting shellingham>=1.3.0 (from typer>=0.3->evidently==0.6.7->-r requirements.txt (line 3))\n",
      "  Downloading shellingham-1.5.4-py2.py3-none-any.whl.metadata (3.5 kB)\n",
      "Requirement already satisfied: mypy-extensions>=0.3.0 in /opt/app-root/lib64/python3.11/site-packages (from typing-inspect>=0.9.0->evidently==0.6.7->-r requirements.txt (line 3)) (1.0.0)\n",
      "Requirement already satisfied: h11>=0.8 in /opt/app-root/lib64/python3.11/site-packages (from uvicorn>=0.22.0->uvicorn[standard]>=0.22.0->evidently==0.6.7->-r requirements.txt (line 3)) (0.14.0)\n",
      "Collecting httptools>=0.6.3 (from uvicorn[standard]>=0.22.0->evidently==0.6.7->-r requirements.txt (line 3))\n",
      "  Downloading httptools-0.6.4-cp311-cp311-manylinux_2_5_x86_64.manylinux1_x86_64.manylinux_2_17_x86_64.manylinux2014_x86_64.whl.metadata (3.6 kB)\n",
      "Collecting python-dotenv>=0.13 (from uvicorn[standard]>=0.22.0->evidently==0.6.7->-r requirements.txt (line 3))\n",
      "  Downloading python_dotenv-1.1.0-py3-none-any.whl.metadata (24 kB)\n",
      "Collecting uvloop>=0.15.1 (from uvicorn[standard]>=0.22.0->evidently==0.6.7->-r requirements.txt (line 3))\n",
      "  Downloading uvloop-0.21.0-cp311-cp311-manylinux_2_17_x86_64.manylinux2014_x86_64.whl.metadata (4.9 kB)\n",
      "Collecting watchfiles>=0.13 (from uvicorn[standard]>=0.22.0->evidently==0.6.7->-r requirements.txt (line 3))\n",
      "  Downloading watchfiles-1.0.5-cp311-cp311-manylinux_2_17_x86_64.manylinux2014_x86_64.whl.metadata (4.9 kB)\n",
      "Collecting websockets>=10.4 (from uvicorn[standard]>=0.22.0->evidently==0.6.7->-r requirements.txt (line 3))\n",
      "  Downloading websockets-15.0.1-cp311-cp311-manylinux_2_5_x86_64.manylinux1_x86_64.manylinux_2_17_x86_64.manylinux2014_x86_64.whl.metadata (6.8 kB)\n",
      "Requirement already satisfied: sniffio>=1.1 in /opt/app-root/lib64/python3.11/site-packages (from anyio>=3->litestar>=2.8.3->evidently==0.6.7->-r requirements.txt (line 3)) (1.3.1)\n",
      "Requirement already satisfied: pycparser in /opt/app-root/lib64/python3.11/site-packages (from cffi>=1.12->cryptography>=43.0.1->evidently==0.6.7->-r requirements.txt (line 3)) (2.22)\n",
      "Requirement already satisfied: google-auth~=2.0 in /opt/app-root/lib64/python3.11/site-packages (from databricks-sdk<1,>=0.20.0->mlflow-skinny==2.22.1->mlflow->-r requirements.txt (line 4)) (2.38.0)\n",
      "Collecting starlette<0.47.0,>=0.40.0 (from fastapi<1->mlflow-skinny==2.22.1->mlflow->-r requirements.txt (line 4))\n",
      "  Downloading starlette-0.46.2-py3-none-any.whl.metadata (6.2 kB)\n",
      "Requirement already satisfied: gitdb<5,>=4.0.1 in /opt/app-root/lib64/python3.11/site-packages (from gitpython<4,>=3.1.9->mlflow-skinny==2.22.1->mlflow->-r requirements.txt (line 4)) (4.0.12)\n",
      "Requirement already satisfied: httpcore==1.* in /opt/app-root/lib64/python3.11/site-packages (from httpx>=0.22->litestar>=2.8.3->evidently==0.6.7->-r requirements.txt (line 3)) (1.0.7)\n",
      "Collecting zipp>=3.20 (from importlib_metadata!=4.7.0,<9,>=3.7.0->mlflow-skinny==2.22.1->mlflow->-r requirements.txt (line 4))\n",
      "  Downloading zipp-3.23.0-py3-none-any.whl.metadata (3.6 kB)\n",
      "Requirement already satisfied: mdurl~=0.1 in /opt/app-root/lib64/python3.11/site-packages (from markdown-it-py>=2.2.0->rich>=13->evidently==0.6.7->-r requirements.txt (line 3)) (0.1.2)\n",
      "Collecting opentelemetry-semantic-conventions==0.55b0 (from opentelemetry-sdk<3,>=1.9.0->mlflow-skinny==2.22.1->mlflow->-r requirements.txt (line 4))\n",
      "  Downloading opentelemetry_semantic_conventions-0.55b0-py3-none-any.whl.metadata (2.5 kB)\n",
      "Collecting faker>=5.0.0 (from polyfactory>=2.6.3->litestar>=2.8.3->evidently==0.6.7->-r requirements.txt (line 3))\n",
      "  Downloading faker-37.3.0-py3-none-any.whl.metadata (15 kB)\n",
      "Requirement already satisfied: six>=1.5 in /opt/app-root/lib64/python3.11/site-packages (from python-dateutil<3,>=2.7.0->graphene<4->mlflow->-r requirements.txt (line 4)) (1.17.0)\n",
      "Requirement already satisfied: smmap<6,>=3.0.1 in /opt/app-root/lib64/python3.11/site-packages (from gitdb<5,>=4.0.1->gitpython<4,>=3.1.9->mlflow-skinny==2.22.1->mlflow->-r requirements.txt (line 4)) (5.0.2)\n",
      "Requirement already satisfied: pyasn1-modules>=0.2.1 in /opt/app-root/lib64/python3.11/site-packages (from google-auth~=2.0->databricks-sdk<1,>=0.20.0->mlflow-skinny==2.22.1->mlflow->-r requirements.txt (line 4)) (0.4.1)\n",
      "Requirement already satisfied: rsa<5,>=3.1.4 in /opt/app-root/lib64/python3.11/site-packages (from google-auth~=2.0->databricks-sdk<1,>=0.20.0->mlflow-skinny==2.22.1->mlflow->-r requirements.txt (line 4)) (4.9)\n",
      "Requirement already satisfied: pyasn1<0.7.0,>=0.4.6 in /opt/app-root/lib64/python3.11/site-packages (from pyasn1-modules>=0.2.1->google-auth~=2.0->databricks-sdk<1,>=0.20.0->mlflow-skinny==2.22.1->mlflow->-r requirements.txt (line 4)) (0.6.1)\n",
      "Downloading evidently-0.6.7-py3-none-any.whl (3.5 MB)\n",
      "\u001b[2K   \u001b[90m━━━━━━━━━━━━━━━━━━━━━━━━━━━━━━━━━━━━━━━━\u001b[0m \u001b[32m3.5/3.5 MB\u001b[0m \u001b[31m207.3 MB/s\u001b[0m eta \u001b[36m0:00:00\u001b[0m\n",
      "\u001b[?25hDownloading seaborn-0.13.2-py3-none-any.whl (294 kB)\n",
      "Downloading mlflow-2.22.1-py3-none-any.whl (29.0 MB)\n",
      "\u001b[2K   \u001b[90m━━━━━━━━━━━━━━━━━━━━━━━━━━━━━━━━━━━━━━━━\u001b[0m \u001b[32m29.0/29.0 MB\u001b[0m \u001b[31m190.7 MB/s\u001b[0m eta \u001b[36m0:00:00\u001b[0m\n",
      "\u001b[?25hDownloading mlflow_skinny-2.22.1-py3-none-any.whl (6.3 MB)\n",
      "\u001b[2K   \u001b[90m━━━━━━━━━━━━━━━━━━━━━━━━━━━━━━━━━━━━━━━━\u001b[0m \u001b[32m6.3/6.3 MB\u001b[0m \u001b[31m236.6 MB/s\u001b[0m eta \u001b[36m0:00:00\u001b[0m\n",
      "\u001b[?25hDownloading alembic-1.16.1-py3-none-any.whl (242 kB)\n",
      "Downloading docker-7.1.0-py3-none-any.whl (147 kB)\n",
      "Downloading dynaconf-3.2.11-py2.py3-none-any.whl (236 kB)\n",
      "Downloading flask-3.1.1-py3-none-any.whl (103 kB)\n",
      "Downloading graphene-3.4.3-py2.py3-none-any.whl (114 kB)\n",
      "Downloading gunicorn-23.0.0-py3-none-any.whl (85 kB)\n",
      "Downloading iterative_telemetry-0.0.10-py3-none-any.whl (10 kB)\n",
      "Downloading litestar-2.16.0-py3-none-any.whl (573 kB)\n",
      "\u001b[2K   \u001b[90m━━━━━━━━━━━━━━━━━━━━━━━━━━━━━━━━━━━━━━━\u001b[0m \u001b[32m573.2/573.2 kB\u001b[0m \u001b[31m380.2 MB/s\u001b[0m eta \u001b[36m0:00:00\u001b[0m\n",
      "\u001b[?25hDownloading markdown-3.8-py3-none-any.whl (106 kB)\n",
      "Downloading nltk-3.9.1-py3-none-any.whl (1.5 MB)\n",
      "\u001b[2K   \u001b[90m━━━━━━━━━━━━━━━━━━━━━━━━━━━━━━━━━━━━━━━━\u001b[0m \u001b[32m1.5/1.5 MB\u001b[0m \u001b[31m84.3 MB/s\u001b[0m eta \u001b[36m0:00:00\u001b[0m\n",
      "\u001b[?25hDownloading numpy-2.0.2-cp311-cp311-manylinux_2_17_x86_64.manylinux2014_x86_64.whl (19.5 MB)\n",
      "\u001b[2K   \u001b[90m━━━━━━━━━━━━━━━━━━━━━━━━━━━━━━━━━━━━━━━━\u001b[0m \u001b[32m19.5/19.5 MB\u001b[0m \u001b[31m206.4 MB/s\u001b[0m eta \u001b[36m0:00:00\u001b[0m\n",
      "\u001b[?25hDownloading plotly-5.24.1-py3-none-any.whl (19.1 MB)\n",
      "\u001b[2K   \u001b[90m━━━━━━━━━━━━━━━━━━━━━━━━━━━━━━━━━━━━━━━━\u001b[0m \u001b[32m19.1/19.1 MB\u001b[0m \u001b[31m269.3 MB/s\u001b[0m eta \u001b[36m0:00:00\u001b[0m\n",
      "\u001b[?25hDownloading sqlalchemy-2.0.41-cp311-cp311-manylinux_2_17_x86_64.manylinux2014_x86_64.whl (3.3 MB)\n",
      "\u001b[2K   \u001b[90m━━━━━━━━━━━━━━━━━━━━━━━━━━━━━━━━━━━━━━━━\u001b[0m \u001b[32m3.3/3.3 MB\u001b[0m \u001b[31m257.4 MB/s\u001b[0m eta \u001b[36m0:00:00\u001b[0m\n",
      "\u001b[?25hDownloading statsmodels-0.14.4-cp311-cp311-manylinux_2_17_x86_64.manylinux2014_x86_64.whl (10.8 MB)\n",
      "\u001b[2K   \u001b[90m━━━━━━━━━━━━━━━━━━━━━━━━━━━━━━━━━━━━━━━━\u001b[0m \u001b[32m10.8/10.8 MB\u001b[0m \u001b[31m254.2 MB/s\u001b[0m eta \u001b[36m0:00:00\u001b[0m\n",
      "\u001b[?25hDownloading typer-0.16.0-py3-none-any.whl (46 kB)\n",
      "Downloading typing_inspect-0.9.0-py3-none-any.whl (8.8 kB)\n",
      "Downloading uuid6-2024.7.10-py3-none-any.whl (6.4 kB)\n",
      "Downloading uvicorn-0.34.3-py3-none-any.whl (62 kB)\n",
      "Downloading blinker-1.9.0-py3-none-any.whl (8.5 kB)\n",
      "Downloading cloudpickle-3.1.1-py3-none-any.whl (20 kB)\n",
      "Downloading databricks_sdk-0.56.0-py3-none-any.whl (733 kB)\n",
      "\u001b[2K   \u001b[90m━━━━━━━━━━━━━━━━━━━━━━━━━━━━━━━━━━━━━━━\u001b[0m \u001b[32m733.7/733.7 kB\u001b[0m \u001b[31m416.5 MB/s\u001b[0m eta \u001b[36m0:00:00\u001b[0m\n",
      "\u001b[?25hDownloading fastapi-0.115.12-py3-none-any.whl (95 kB)\n",
      "Downloading graphql_core-3.2.6-py3-none-any.whl (203 kB)\n",
      "Downloading graphql_relay-3.2.0-py3-none-any.whl (16 kB)\n",
      "Downloading greenlet-3.2.3-cp311-cp311-manylinux_2_24_x86_64.manylinux_2_28_x86_64.whl (585 kB)\n",
      "\u001b[2K   \u001b[90m━━━━━━━━━━━━━━━━━━━━━━━━━━━━━━━━━━━━━━━\u001b[0m \u001b[32m585.5/585.5 kB\u001b[0m \u001b[31m571.1 MB/s\u001b[0m eta \u001b[36m0:00:00\u001b[0m\n",
      "\u001b[?25hDownloading httptools-0.6.4-cp311-cp311-manylinux_2_5_x86_64.manylinux1_x86_64.manylinux_2_17_x86_64.manylinux2014_x86_64.whl (459 kB)\n",
      "Downloading importlib_metadata-8.7.0-py3-none-any.whl (27 kB)\n",
      "Downloading itsdangerous-2.2.0-py3-none-any.whl (16 kB)\n",
      "Downloading litestar_htmx-0.4.1-py3-none-any.whl (10.0 kB)\n",
      "Downloading msgspec-0.19.0-cp311-cp311-manylinux_2_17_x86_64.manylinux2014_x86_64.whl (210 kB)\n",
      "Downloading multipart-1.2.1-py3-none-any.whl (13 kB)\n",
      "Downloading opentelemetry_api-1.34.0-py3-none-any.whl (65 kB)\n",
      "Downloading opentelemetry_sdk-1.34.0-py3-none-any.whl (118 kB)\n",
      "Downloading opentelemetry_semantic_conventions-0.55b0-py3-none-any.whl (196 kB)\n",
      "Downloading patsy-1.0.1-py2.py3-none-any.whl (232 kB)\n",
      "Downloading polyfactory-2.21.0-py3-none-any.whl (60 kB)\n",
      "Downloading python_dotenv-1.1.0-py3-none-any.whl (20 kB)\n",
      "Downloading regex-2024.11.6-cp311-cp311-manylinux_2_17_x86_64.manylinux2014_x86_64.whl (792 kB)\n",
      "\u001b[2K   \u001b[90m━━━━━━━━━━━━━━━━━━━━━━━━━━━━━━━━━━━━━━━\u001b[0m \u001b[32m792.7/792.7 kB\u001b[0m \u001b[31m489.8 MB/s\u001b[0m eta \u001b[36m0:00:00\u001b[0m\n",
      "\u001b[?25hDownloading shellingham-1.5.4-py2.py3-none-any.whl (9.8 kB)\n",
      "Downloading sqlparse-0.5.3-py3-none-any.whl (44 kB)\n",
      "Downloading uvloop-0.21.0-cp311-cp311-manylinux_2_17_x86_64.manylinux2014_x86_64.whl (4.0 MB)\n",
      "\u001b[2K   \u001b[90m━━━━━━━━━━━━━━━━━━━━━━━━━━━━━━━━━━━━━━━━\u001b[0m \u001b[32m4.0/4.0 MB\u001b[0m \u001b[31m142.7 MB/s\u001b[0m eta \u001b[36m0:00:00\u001b[0m\n",
      "\u001b[?25hDownloading watchfiles-1.0.5-cp311-cp311-manylinux_2_17_x86_64.manylinux2014_x86_64.whl (454 kB)\n",
      "Downloading websockets-15.0.1-cp311-cp311-manylinux_2_5_x86_64.manylinux1_x86_64.manylinux_2_17_x86_64.manylinux2014_x86_64.whl (182 kB)\n",
      "Downloading werkzeug-3.1.3-py3-none-any.whl (224 kB)\n",
      "Downloading appdirs-1.4.4-py2.py3-none-any.whl (9.6 kB)\n",
      "Downloading distro-1.9.0-py3-none-any.whl (20 kB)\n",
      "Downloading mako-1.3.10-py3-none-any.whl (78 kB)\n",
      "Downloading rich_click-1.8.9-py3-none-any.whl (36 kB)\n",
      "Downloading faker-37.3.0-py3-none-any.whl (1.9 MB)\n",
      "\u001b[2K   \u001b[90m━━━━━━━━━━━━━━━━━━━━━━━━━━━━━━━━━━━━━━━━\u001b[0m \u001b[32m1.9/1.9 MB\u001b[0m \u001b[31m47.8 MB/s\u001b[0m eta \u001b[36m0:00:00\u001b[0m\n",
      "\u001b[?25hDownloading starlette-0.46.2-py3-none-any.whl (72 kB)\n",
      "Downloading zipp-3.23.0-py3-none-any.whl (10 kB)\n",
      "Installing collected packages: appdirs, zipp, werkzeug, websockets, uvloop, uvicorn, uuid6, typing-inspect, sqlparse, shellingham, regex, python-dotenv, plotly, numpy, multipart, msgspec, markdown, Mako, litestar-htmx, itsdangerous, httptools, gunicorn, greenlet, graphql-core, faker, dynaconf, distro, cloudpickle, blinker, watchfiles, starlette, sqlalchemy, polyfactory, patsy, nltk, iterative-telemetry, importlib_metadata, graphql-relay, Flask, docker, typer, statsmodels, rich-click, opentelemetry-api, graphene, fastapi, databricks-sdk, alembic, seaborn, opentelemetry-semantic-conventions, litestar, opentelemetry-sdk, evidently, mlflow-skinny, mlflow\n",
      "  Attempting uninstall: plotly\n",
      "    Found existing installation: plotly 6.0.0\n",
      "    Uninstalling plotly-6.0.0:\n",
      "      Successfully uninstalled plotly-6.0.0\n",
      "  Attempting uninstall: numpy\n",
      "    Found existing installation: numpy 2.2.3\n",
      "    Uninstalling numpy-2.2.3:\n",
      "      Successfully uninstalled numpy-2.2.3\n",
      "Successfully installed Flask-3.1.1 Mako-1.3.10 alembic-1.16.1 appdirs-1.4.4 blinker-1.9.0 cloudpickle-3.1.1 databricks-sdk-0.56.0 distro-1.9.0 docker-7.1.0 dynaconf-3.2.11 evidently-0.6.7 faker-37.3.0 fastapi-0.115.12 graphene-3.4.3 graphql-core-3.2.6 graphql-relay-3.2.0 greenlet-3.2.3 gunicorn-23.0.0 httptools-0.6.4 importlib_metadata-8.7.0 iterative-telemetry-0.0.10 itsdangerous-2.2.0 litestar-2.16.0 litestar-htmx-0.4.1 markdown-3.8 mlflow-2.22.1 mlflow-skinny-2.22.1 msgspec-0.19.0 multipart-1.2.1 nltk-3.9.1 numpy-2.0.2 opentelemetry-api-1.34.0 opentelemetry-sdk-1.34.0 opentelemetry-semantic-conventions-0.55b0 patsy-1.0.1 plotly-5.24.1 polyfactory-2.21.0 python-dotenv-1.1.0 regex-2024.11.6 rich-click-1.8.9 seaborn-0.13.2 shellingham-1.5.4 sqlalchemy-2.0.41 sqlparse-0.5.3 starlette-0.46.2 statsmodels-0.14.4 typer-0.16.0 typing-inspect-0.9.0 uuid6-2024.7.10 uvicorn-0.34.3 uvloop-0.21.0 watchfiles-1.0.5 websockets-15.0.1 werkzeug-3.1.3 zipp-3.23.0\n",
      "\n",
      "\u001b[1m[\u001b[0m\u001b[34;49mnotice\u001b[0m\u001b[1;39;49m]\u001b[0m\u001b[39;49m A new release of pip is available: \u001b[0m\u001b[31;49m24.2\u001b[0m\u001b[39;49m -> \u001b[0m\u001b[32;49m25.1.1\u001b[0m\n",
      "\u001b[1m[\u001b[0m\u001b[34;49mnotice\u001b[0m\u001b[1;39;49m]\u001b[0m\u001b[39;49m To update, run: \u001b[0m\u001b[32;49mpip install --upgrade pip\u001b[0m\n"
     ]
    }
   ],
   "source": [
    "# Install requirements\n",
    "!pip install -r requirements.txt"
   ]
  },
  {
   "cell_type": "markdown",
   "id": "f11b9cbc-f1f1-4f7e-9801-365914ecb676",
   "metadata": {},
   "source": [
    "## 📦 Import Required Libraries\n",
    "\n",
    "Before we proceed with training and tracking our machine learning model, we need to import the necessary libraries.\n"
   ]
  },
  {
   "cell_type": "code",
   "execution_count": 17,
   "id": "80ced53d-3adc-4ad5-92f4-20a0d0336728",
   "metadata": {
    "tags": []
   },
   "outputs": [],
   "source": [
    "# Import necessary modules\n",
    "import os\n",
    "import joblib\n",
    "\n",
    "import requests\n",
    "import json\n",
    "\n",
    "from sklearn.model_selection import train_test_split\n",
    "from sklearn.ensemble import RandomForestRegressor\n",
    "from sklearn.metrics import mean_squared_error, r2_score\n",
    "\n",
    "import pandas as pd\n",
    "import numpy as np\n",
    "\n",
    "import mlflow\n",
    "import mlflow.sklearn\n",
    "from mlflow.tracking import MlflowClient"
   ]
  },
  {
   "cell_type": "code",
   "execution_count": null,
   "id": "eabd2f7d",
   "metadata": {},
   "outputs": [],
   "source": []
  },
  {
   "cell_type": "markdown",
   "id": "a7cdbcac",
   "metadata": {},
   "source": [
    "**************************************************\n",
    "**************************************************"
   ]
  },
  {
   "cell_type": "markdown",
   "id": "bf928e20",
   "metadata": {},
   "source": [
    "#### We will continue with the steps in task 6 (`Model Deploymet - Deploy on OpenShift Cluster`). "
   ]
  },
  {
   "cell_type": "markdown",
   "id": "ba913bcb-2f3a-41c3-92ce-13c77b157980",
   "metadata": {
    "jp-MarkdownHeadingCollapsed": true
   },
   "source": [
    "## 🚀 Deployment on OpenShift Cluster: Test the Model-API\n",
    "In this section, we deploy the trained machine learning model on an OpenShift cluster. The deployment includes deploying the image via a deployment manifest and exposing it using an internal service.\n",
    "\n",
    "- Deploy the Image Using k8s_deployment.yaml\n",
    "- Expose the Model Internally via a Service\n",
    "- Expose the Model Externally via a Route (Optional)"
   ]
  },
  {
   "cell_type": "markdown",
   "id": "f3d0f6eb-8cb9-4685-99e7-0a60cfd0b47b",
   "metadata": {},
   "source": [
    "## 🧪 Test the API Endpoint\n",
    "\n",
    "First, we prepare the sample input data for inferencing. We load a CSV file (located in the ./data/test_model/ directory) containing sample test data and prepare it in the format expected by the deployed machine learning model."
   ]
  },
  {
   "cell_type": "code",
   "execution_count": null,
   "id": "0e3e8a2d-412c-4c29-98d1-e6a5cb61bf1a",
   "metadata": {},
   "outputs": [
    {
     "name": "stdout",
     "output_type": "stream",
     "text": [
      "Saved to ./data/test_model/json_input_list.txt\n"
     ]
    }
   ],
   "source": [
    "# Load the sample data CSV\n",
    "test_model_path = \"./data/test_model/\"\n",
    "\n",
    "sample_input = pd.read_csv(test_model_path + 'sample_input_data.csv')\n",
    "# df = pd.read_csv(\"sample_input_data.csv\")\n",
    "\n",
    "# Define the subset of features expected by the model\n",
    "model_features = [\n",
    "    'temp', 'atemp', 'humidity', 'windspeed',\n",
    "    'hour', 'weekday', 'season', 'holiday', 'workingday', 'weathersit'\n",
    "]\n",
    "\n",
    "# Extract the relevant subset and convert to JSON-like list of dicts\n",
    "sample_X_input = sample_input[model_features]\n",
    "sample_y_input = sample_input[\"count\"]\n",
    "\n",
    "json_input_list = sample_X_input.head(5).to_dict(orient='records')\n",
    "\n",
    "print(json_input_list)\n",
    "\n",
    "# Store the generated sample inference input\n",
    "output_file  = f\"{test_model_path}json_input_list.txt\"\n",
    "with open(output_file, \"w\") as f:\n",
    "    for item in json_input_list:\n",
    "        f.write(json.dumps(item) + \"\\n\")\n",
    "\n",
    "print(f\"Saved to {output_file}\")"
   ]
  },
  {
   "cell_type": "markdown",
   "id": "b16978e0-6b5e-45da-8fe5-b6f056ebe681",
   "metadata": {},
   "source": [
    "### Sending a Test Inference Request via curl\n",
    "\n",
    "This command sends a test HTTP POST request to the deployed model’s prediction endpoint with a single sample input in JSON format, allowing you to verify that the model is correctly receiving and processing inference requests within the OpenShift cluster."
   ]
  },
  {
   "cell_type": "code",
   "execution_count": null,
   "id": "00886ad8-9220-4a6c-9acb-44785003a230",
   "metadata": {},
   "outputs": [
    {
     "name": "stdout",
     "output_type": "stream",
     "text": [
      "{\"prediction\":8.54}"
     ]
    }
   ],
   "source": [
    "!curl -X POST http://MODEL_API_SERVICE:80/predict \\\n",
    "  -H \"Content-Type: application/json\" \\\n",
    "  -d '{\"temp\": 0.32, \"atemp\": 0.3485, \"humidity\": 1.0, \"windspeed\": 0.0, \"hour\": 1, \"weekday\": 5, \"season\": 1, \"holiday\": 0, \"workingday\": 1, \"weathersit\": 2}'"
   ]
  },
  {
   "cell_type": "markdown",
   "id": "ee633185-f7a3-4132-80a8-5bc2e3817310",
   "metadata": {},
   "source": [
    "### Batch Inference: Sending Multiple Requests to the Model Endpoint\n",
    "\n",
    "This section reads multiple JSON-formatted input samples from a file and sends them one-by-one to the model's prediction endpoint. It collects the predicted results and displays them alongside the actual target values in a combined output DataFrame."
   ]
  },
  {
   "cell_type": "code",
   "execution_count": null,
   "id": "1eccbd1a-8517-4f31-9789-96d8901cf3b6",
   "metadata": {},
   "outputs": [
    {
     "name": "stdout",
     "output_type": "stream",
     "text": [
      "   Predicted Count  Actual  Count\n",
      "0         8.540000             10\n",
      "1       118.955488            122\n",
      "2        88.637184             93\n",
      "3       137.775238            130\n",
      "4       209.155000            220\n"
     ]
    }
   ],
   "source": [
    "# ── Endpoint ─────────────────────────────────────────────────────────────\n",
    "endpoint = \"http://MODEL_API_SERVICE:80/predict\"\n",
    "\n",
    "# ── Read the JSON-line file and send requests ────────────────────────────\n",
    "predictions = []\n",
    "\n",
    "with open(f\"{test_model_path}json_input_list.txt\") as fh:\n",
    "    for line_no, line in enumerate(fh, 1):\n",
    "        line = line.strip()\n",
    "        \n",
    "        inference_request = json.loads(line)\n",
    "        response = requests.post(endpoint, json=inference_request)\n",
    "\n",
    "        if response.status_code == 200:\n",
    "            # FastAPI returns {\"prediction\": <value>}\n",
    "            predictions.append(response.json()[\"prediction\"])\n",
    "\n",
    "        else:\n",
    "            print(f\"Request failed with status code: {response.status_code}\")\n",
    "            print(f\"Response content: {response.text}\")\n",
    "\n",
    "# ── Assemble results into a DataFrame ────────────────────────────────────\n",
    "pred_df = pd.DataFrame(predictions, columns=[\"Predicted Count\"])\n",
    "\n",
    "# Combine predictions with actual classes\n",
    "actual_class_test = sample_y_input.reset_index(drop=True)\n",
    "model_output = pd.concat([pred_df, actual_class_test], axis=1)\n",
    "\n",
    "# Rename columns for clarity\n",
    "model_output.columns = ['Predicted Count', 'Actual  Count']\n",
    "\n",
    "# Display the final output\n",
    "print(model_output)"
   ]
  },
  {
   "cell_type": "markdown",
   "id": "b3f4bfd5-055f-45f3-8228-fa48a3ff4965",
   "metadata": {},
   "source": [
    "### 📊 Visualizing Actual vs Predicted Counts for Sample Inputs\n",
    "\n",
    "This cell visualizes the predicted versus actual bike rental counts for each input sample using a scatter plot. Squares represent the actual values, while crosses indicate the model’s predictions, making it easy to spot discrepancies. This side-by-side comparison helps evaluate how closely the model aligns with real-world outcomes for the selected test samples."
   ]
  },
  {
   "cell_type": "code",
   "execution_count": 28,
   "id": "e7f77b18-9c95-4b91-b372-232fbf342d4e",
   "metadata": {},
   "outputs": [
    {
     "data": {
      "image/png": "[encoded data removed]",
      "text/plain": [
       "<Figure size 800x500 with 1 Axes>"
      ]
     },
     "metadata": {},
     "output_type": "display_data"
    }
   ],
   "source": [
    "import matplotlib.pyplot as plt\n",
    "import numpy as np\n",
    "\n",
    "# Number of samples\n",
    "x = np.arange(len(model_output))\n",
    "\n",
    "plt.figure(figsize=(8, 5))\n",
    "\n",
    "# Plot actual values as squares\n",
    "plt.scatter(x, model_output['Actual  Count'], label='Actual Count', marker='s', color='blue')\n",
    "\n",
    "# Plot predicted values as crosses\n",
    "plt.scatter(x, model_output['Predicted Count'], label='Predicted Count', marker='x', color='red')\n",
    "\n",
    "# Annotate with differences\n",
    "for i in x:\n",
    "    actual = model_output['Actual  Count'][i]\n",
    "    predicted = model_output['Predicted Count'][i]\n",
    "    diff = actual - predicted\n",
    "    plt.text(i, max(actual, predicted) + 10, f'{diff:+.1f}', \n",
    "             ha='center', va='bottom', fontsize=8, \n",
    "             bbox=dict(boxstyle='round,pad=0.2', fc='yellow', alpha=0.5))\n",
    "    \n",
    "plt.xlabel(\"Sample Index\")\n",
    "plt.ylabel(\"Count\")\n",
    "plt.title(\"Actual vs Predicted Count\")\n",
    "plt.xticks(x)  # Show sample indices clearly\n",
    "plt.legend()\n",
    "plt.grid(True)\n",
    "plt.tight_layout()\n",
    "plt.show()"
   ]
  },
  {
   "cell_type": "markdown",
   "id": "965dea5d",
   "metadata": {},
   "source": [
    "#### Congratulations! You have completed all the steps in task 6 (`Model Deploymet - Deploy on OpenShift Cluster`). "
   ]
  },
  {
   "cell_type": "code",
   "execution_count": null,
   "id": "a7ab80a1-2c7a-4949-b9f8-0d06ab0c6a1d",
   "metadata": {},
   "outputs": [],
   "source": []
  },
  {
   "cell_type": "code",
   "execution_count": null,
   "id": "c98091dc-f326-4e74-ab22-fb0a3665a2cc",
   "metadata": {},
   "outputs": [],
   "source": []
  }
 ],
 "metadata": {
  "kernelspec": {
   "display_name": "Python 3.11",
   "language": "python",
   "name": "python3"
  },
  "language_info": {
   "codemirror_mode": {
    "name": "ipython",
    "version": 3
   },
   "file_extension": ".py",
   "mimetype": "text/x-python",
   "name": "python",
   "nbconvert_exporter": "python",
   "pygments_lexer": "ipython3",
   "version": "3.11.9"
  }
 },
 "nbformat": 4,
 "nbformat_minor": 5
}
